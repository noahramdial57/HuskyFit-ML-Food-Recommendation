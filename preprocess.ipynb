{
 "cells": [
  {
   "cell_type": "code",
   "execution_count": 3,
   "id": "82b26836-210e-4b5f-81ec-138584a278c0",
   "metadata": {
    "tags": []
   },
   "outputs": [
    {
     "ename": "ModuleNotFoundError",
     "evalue": "No module named 'pandas'",
     "output_type": "error",
     "traceback": [
      "\u001b[0;31m---------------------------------------------------------------------------\u001b[0m",
      "\u001b[0;31mModuleNotFoundError\u001b[0m                       Traceback (most recent call last)",
      "Cell \u001b[0;32mIn[3], line 1\u001b[0m\n\u001b[0;32m----> 1\u001b[0m \u001b[39mimport\u001b[39;00m \u001b[39mpandas\u001b[39;00m \u001b[39mas\u001b[39;00m \u001b[39mpd\u001b[39;00m\n",
      "\u001b[0;31mModuleNotFoundError\u001b[0m: No module named 'pandas'"
     ]
    }
   ],
   "source": [
    "import pandas as pd"
   ]
  },
  {
   "cell_type": "code",
   "execution_count": 4,
   "id": "a5ed8edc-2e7e-41b5-a5c7-59593cf78fae",
   "metadata": {
    "tags": []
   },
   "outputs": [],
   "source": [
    "meals = ['Food Item','Breakfast', 'Lunch', 'Dinner']\n",
    "allergens = ['Fish', 'Soybeans', 'Wheat', 'Gluten', 'Milk', 'Tree Nuts', 'Eggs', 'Sesame', 'Crustacean Shellfish']\n",
    "dietary_restrictions = ['Gluten Friendly', 'Less Sodium', 'Smart Check', 'Vegan', 'Vegetarian', 'Contains Nuts']"
   ]
  },
  {
   "cell_type": "code",
   "execution_count": 20,
   "id": "04b27e09-deb8-4d1a-9404-5ae3f8ed4847",
   "metadata": {
    "tags": []
   },
   "outputs": [],
   "source": [
    "def preProcessData(dining_hall):\n",
    "\n",
    "    df = pd.read_csv(\"./raw-data/{}.csv\".format(dining_hall), na_filter = False) # empty cells are repesented as empty strings\n",
    "    L = meals + allergens + dietary_restrictions\n",
    "    matrix = pd.DataFrame(columns=L)\n",
    "    \n",
    "    for index, row in df.iterrows():\n",
    "        item = []\n",
    "        item.append(row[\"Food Item\"])\n",
    "        \n",
    "    # ['Food Item','Breakfast', 'Lunch', 'Dinner']\n",
    "        meal = row[' Meal']\n",
    "        if meal == \"Breakfast\": item.append(1)\n",
    "        else: item.append(0)\n",
    "\n",
    "        # Lunch\n",
    "        if meal == \"Lunch\": item.append(1)\n",
    "        else: item.append(0)\n",
    "\n",
    "        # Dinner\n",
    "        if meal == \"Dinner\": item.append(1)\n",
    "        else: item.append(0)\n",
    "\n",
    "    # ['Fish', 'Soybeans', 'Wheat', 'Gluten', 'Milk', 'Tree Nuts', 'Eggs', 'Sesame', 'Crustacean Shellfish']\n",
    "        allergen = row[' Allergens']\n",
    "        if \"Fish\" in allergen: item.append(1)\n",
    "        else: item.append(0)\n",
    "\n",
    "        if  \"Soybeans\" in allergen: item.append(1)\n",
    "        else: item.append(0)\n",
    "\n",
    "        if  \"Wheat\" in allergen: item.append(1)\n",
    "        else: item.append(0)\n",
    "\n",
    "        if \"Gluten\" in allergen: item.append(1)\n",
    "        else: item.append(0)\n",
    "\n",
    "        if \"Milk\" in allergen: item.append(1)\n",
    "        else: item.append(0)\n",
    "\n",
    "        if \"Tree Nuts\" in allergen: item.append(1)\n",
    "        else: item.append(0)\n",
    "\n",
    "        if \"Eggs\" in allergen: item.append(1)\n",
    "        else: item.append(0)\n",
    "\n",
    "        if \"Sesame\" in allergen: item.append(1)\n",
    "        else: item.append(0)\n",
    "\n",
    "        if \"Crustacean Shellfish\" in allergen: item.append(1)\n",
    "        else: item.append(0)\n",
    "\n",
    "    # ['Gluten Friendly', 'Less Sodium', 'Smart Check', 'Vegan', 'Vegetarian', 'Contains Nuts']\n",
    "        dietary_restriction = row[' Dietary Restrictions']\n",
    "        if \"Gluten Friendly\" in dietary_restriction: item.append(1)\n",
    "        else: item.append(0)\n",
    "\n",
    "        if \"Less Sodium\" in dietary_restriction: item.append(1)\n",
    "        else: item.append(0)\n",
    "\n",
    "        if \"Smart Check\" in dietary_restriction: item.append(1)\n",
    "        else: item.append(0)\n",
    "\n",
    "        if \"Vegan\" in dietary_restriction: item.append(1)\n",
    "        else: item.append(0)\n",
    "\n",
    "        if \"Vegetarian\" in dietary_restriction: item.append(1)\n",
    "        else: item.append(0)\n",
    "\n",
    "        if \"Contains Nuts\" in dietary_restriction: item.append(1)\n",
    "        else: item.append(0)\n",
    "\n",
    "        item = pd.DataFrame([item], columns = meals + allergens + dietary_restrictions)\n",
    "        matrix = pd.concat([matrix, item])\n",
    "\n",
    "    path = \"./preprocessed-data/{}.csv\".format(dining_hall)\n",
    "    matrix.to_csv(path, encoding='utf-8', index=False)\n",
    "\n",
    "    return matrix"
   ]
  },
  {
   "cell_type": "code",
   "execution_count": 21,
   "id": "5b742cf6-8250-469b-9ece-77aee71a0729",
   "metadata": {
    "tags": []
   },
   "outputs": [
    {
     "data": {
      "text/html": [
       "<div>\n",
       "<style scoped>\n",
       "    .dataframe tbody tr th:only-of-type {\n",
       "        vertical-align: middle;\n",
       "    }\n",
       "\n",
       "    .dataframe tbody tr th {\n",
       "        vertical-align: top;\n",
       "    }\n",
       "\n",
       "    .dataframe thead th {\n",
       "        text-align: right;\n",
       "    }\n",
       "</style>\n",
       "<table border=\"1\" class=\"dataframe\">\n",
       "  <thead>\n",
       "    <tr style=\"text-align: right;\">\n",
       "      <th></th>\n",
       "      <th>Food Item</th>\n",
       "      <th>Breakfast</th>\n",
       "      <th>Lunch</th>\n",
       "      <th>Dinner</th>\n",
       "      <th>Fish</th>\n",
       "      <th>Soybeans</th>\n",
       "      <th>Wheat</th>\n",
       "      <th>Gluten</th>\n",
       "      <th>Milk</th>\n",
       "      <th>Tree Nuts</th>\n",
       "      <th>Eggs</th>\n",
       "      <th>Sesame</th>\n",
       "      <th>Crustacean Shellfish</th>\n",
       "      <th>Gluten Friendly</th>\n",
       "      <th>Less Sodium</th>\n",
       "      <th>Smart Check</th>\n",
       "      <th>Vegan</th>\n",
       "      <th>Vegetarian</th>\n",
       "      <th>Contains Nuts</th>\n",
       "    </tr>\n",
       "  </thead>\n",
       "  <tbody>\n",
       "    <tr>\n",
       "      <th>0</th>\n",
       "      <td>Bacon</td>\n",
       "      <td>1</td>\n",
       "      <td>0</td>\n",
       "      <td>0</td>\n",
       "      <td>0</td>\n",
       "      <td>0</td>\n",
       "      <td>0</td>\n",
       "      <td>0</td>\n",
       "      <td>0</td>\n",
       "      <td>0</td>\n",
       "      <td>0</td>\n",
       "      <td>0</td>\n",
       "      <td>0</td>\n",
       "      <td>1</td>\n",
       "      <td>1</td>\n",
       "      <td>0</td>\n",
       "      <td>0</td>\n",
       "      <td>0</td>\n",
       "      <td>0</td>\n",
       "    </tr>\n",
       "  </tbody>\n",
       "</table>\n",
       "</div>"
      ],
      "text/plain": [
       "  Food Item Breakfast Lunch Dinner Fish Soybeans Wheat Gluten Milk Tree Nuts  \\\n",
       "0     Bacon         1     0      0    0        0     0      0    0         0   \n",
       "\n",
       "  Eggs Sesame Crustacean Shellfish Gluten Friendly Less Sodium Smart Check  \\\n",
       "0    0      0                    0               1           1           0   \n",
       "\n",
       "  Vegan Vegetarian Contains Nuts  \n",
       "0     0          0             0  "
      ]
     },
     "execution_count": 21,
     "metadata": {},
     "output_type": "execute_result"
    }
   ],
   "source": [
    "preProcessData(\"whitney\")"
   ]
  },
  {
   "cell_type": "code",
   "execution_count": null,
   "id": "fd9e7cdd-46f8-4fb0-b3be-8772ac953842",
   "metadata": {},
   "outputs": [],
   "source": []
  }
 ],
 "metadata": {
  "kernelspec": {
   "display_name": "Python 3",
   "language": "python",
   "name": "python3"
  },
  "language_info": {
   "codemirror_mode": {
    "name": "ipython",
    "version": 3
   },
   "file_extension": ".py",
   "mimetype": "text/x-python",
   "name": "python",
   "nbconvert_exporter": "python",
   "pygments_lexer": "ipython3",
   "version": "3.10.8"
  },
  "vscode": {
   "interpreter": {
    "hash": "b0fa6594d8f4cbf19f97940f81e996739fb7646882a419484c72d19e05852a7e"
   }
  }
 },
 "nbformat": 4,
 "nbformat_minor": 5
}
