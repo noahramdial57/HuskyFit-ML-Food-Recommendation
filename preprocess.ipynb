{
 "cells": [
  {
   "cell_type": "code",
   "execution_count": 3,
   "id": "82b26836-210e-4b5f-81ec-138584a278c0",
   "metadata": {
    "tags": []
   },
   "outputs": [],
   "source": [
    "import pandas as pd"
   ]
  },
  {
   "cell_type": "code",
   "execution_count": 2,
   "id": "a5ed8edc-2e7e-41b5-a5c7-59593cf78fae",
   "metadata": {
    "tags": []
   },
   "outputs": [],
   "source": [
    "meals = [ \"foodId\", 'Food Item','Breakfast', 'Lunch', 'Dinner']\n",
    "allergens = ['Fish', 'Soybeans', 'Wheat', 'Gluten', 'Milk', 'Tree Nuts', 'Eggs', 'Sesame', 'Crustacean Shellfish']\n",
    "dietary_restrictions = ['Gluten Friendly', 'Less Sodium', 'Smart Check', 'Vegan', 'Vegetarian', 'Contains Nuts']\n",
    "dHalls = [\"gelfenbien\", \"kosher\", \"north\", \"northwest\", \"McMahon\", \"putnam\", \"south\", \"whitney\"]"
   ]
  },
  {
   "cell_type": "code",
   "execution_count": 3,
   "id": "04b27e09-deb8-4d1a-9404-5ae3f8ed4847",
   "metadata": {
    "tags": []
   },
   "outputs": [],
   "source": [
    "def preProcessData():\n",
    "    \n",
    "    i = 0\n",
    "    L = meals + allergens + dietary_restrictions + dHalls\n",
    "    matrix = pd.DataFrame(columns=L)\n",
    "    \n",
    "    for loc in dHalls:\n",
    "        df = pd.read_csv(\"./raw-data/{}.csv\".format(loc), na_filter = False) # empty cells are repesented as empty strings\n",
    "        \n",
    "        for index, row in df.iterrows():\n",
    "            item = []\n",
    "            item.append(i)\n",
    "            i+=1\n",
    "            item.append(row[\"Food Item\"])\n",
    "\n",
    "        # ['Food Item','Breakfast', 'Lunch', 'Dinner']\n",
    "            meal = row[' Meal']\n",
    "            if meal == \"Breakfast\": item.append(1)\n",
    "            else: item.append(0)\n",
    "\n",
    "            # Lunch\n",
    "            if meal == \"Lunch\": item.append(1)\n",
    "            else: item.append(0)\n",
    "\n",
    "            # Dinner\n",
    "            if meal == \"Dinner\": item.append(1)\n",
    "            else: item.append(0)\n",
    "\n",
    "        # ['Fish', 'Soybeans', 'Wheat', 'Gluten', 'Milk', 'Tree Nuts', 'Eggs', 'Sesame', 'Crustacean Shellfish']\n",
    "            allergen = row[' Allergens']\n",
    "            if \"Fish\" in allergen: item.append(1)\n",
    "            else: item.append(0)\n",
    "\n",
    "            if  \"Soybeans\" in allergen: item.append(1)\n",
    "            else: item.append(0)\n",
    "\n",
    "            if  \"Wheat\" in allergen: item.append(1)\n",
    "            else: item.append(0)\n",
    "\n",
    "            if \"Gluten\" in allergen: item.append(1)\n",
    "            else: item.append(0)\n",
    "\n",
    "            if \"Milk\" in allergen: item.append(1)\n",
    "            else: item.append(0)\n",
    "\n",
    "            if \"tree nut\" in allergen: item.append(1)\n",
    "            else: item.append(0)\n",
    "\n",
    "            if \"Eggs\" in allergen: item.append(1)\n",
    "            else: item.append(0)\n",
    "\n",
    "            if \"Sesame\" in allergen: item.append(1)\n",
    "            else: item.append(0)\n",
    "\n",
    "            if \"Crustacean Shellfish\" in allergen: item.append(1)\n",
    "            else: item.append(0)\n",
    "\n",
    "        # ['Gluten Friendly', 'Less Sodium', 'Smart Check', 'Vegan', 'Vegetarian', 'Contains Nuts']\n",
    "            dietary_restriction = row[' Dietary Restrictions']\n",
    "            if \"Gluten Friendly\" in dietary_restriction: item.append(1)\n",
    "            else: item.append(0)\n",
    "\n",
    "            if \"Less Sodium\" in dietary_restriction: item.append(1)\n",
    "            else: item.append(0)\n",
    "\n",
    "            if \"Smart Check\" in dietary_restriction: item.append(1)\n",
    "            else: item.append(0)\n",
    "\n",
    "            if \"Vegan\" in dietary_restriction: item.append(1)\n",
    "            else: item.append(0)\n",
    "\n",
    "            if \"Vegetarian\" in dietary_restriction: item.append(1)\n",
    "            else: item.append(0)\n",
    "\n",
    "            if \"Contains Nuts\" in dietary_restriction: item.append(1)\n",
    "            else: item.append(0)\n",
    "\n",
    "    # [\"gelfenbien\", \"kosher\", \"north\", \"northwest\", \"McMahon\", \"putnam\", \"south\", \"whitney\"]\n",
    "            if loc == \"gelfenbien\": item.append(1)\n",
    "            else: item.append(0)\n",
    "            \n",
    "            if loc == \"kosher\": item.append(1)\n",
    "            else: item.append(0)\n",
    "            \n",
    "            if loc == \"north\": item.append(1)\n",
    "            else: item.append(0)\n",
    "            \n",
    "            if loc == \"northwest\": item.append(1)\n",
    "            else: item.append(0)\n",
    "            \n",
    "            if loc == \"McMahon\": item.append(1)\n",
    "            else: item.append(0)\n",
    "            \n",
    "            if loc == \"putnam\": item.append(1)\n",
    "            else: item.append(0)\n",
    "            \n",
    "            if loc == \"south\": item.append(1)\n",
    "            else: item.append(0)\n",
    "            \n",
    "            if loc == \"whitney\": item.append(1)\n",
    "            else: item.append(0)\n",
    "            \n",
    "\n",
    "            item = pd.DataFrame([item], columns = L)\n",
    "            matrix = pd.concat([matrix, item])\n",
    "            \n",
    "    dhs = \"alldininghalls\"\n",
    "    path = \"./preprocessed-data/{}.csv\".format(dhs)\n",
    "    matrix.to_csv(path, encoding='utf-8', index=False)\n",
    "\n",
    "    return matrix"
   ]
  },
  {
   "cell_type": "code",
   "execution_count": 1,
   "id": "7c9dcb86-85e5-42d5-b30e-17df49ebb2d6",
   "metadata": {
    "tags": []
   },
   "outputs": [],
   "source": [
    "# dhs = [\"gelfenbien\", \"kosher\", \"north\", \"northwest\", \"McMahon\", \"putnam\", \"south\", \"whitney\"]\n",
    "# preProcessData()"
   ]
  },
  {
   "cell_type": "code",
   "execution_count": 16,
   "id": "fd9e7cdd-46f8-4fb0-b3be-8772ac953842",
   "metadata": {
    "tags": []
   },
   "outputs": [],
   "source": [
    "df = pd.read_csv(\"./preprocessed-data/dining_ratings.csv\", na_filter = False) # empty cells are repesented as empty strings"
   ]
  },
  {
   "cell_type": "code",
   "execution_count": 14,
   "id": "1f2acb06-13a4-475f-b279-0ea625ccfe83",
   "metadata": {
    "tags": []
   },
   "outputs": [],
   "source": [
    "import random\n",
    "\n",
    "for index, row in df.iterrows():\n",
    "    x = random.randint(0,1)\n",
    "    df.at[index,'rating'] = x"
   ]
  },
  {
   "cell_type": "code",
   "execution_count": 15,
   "id": "8350d14b-59a7-493f-94c3-368aa61e3055",
   "metadata": {
    "tags": []
   },
   "outputs": [],
   "source": [
    "path = \"./preprocessed-data/thumbs_up_thumbs_down.csv\"\n",
    "df.to_csv(path, encoding='utf-8', index=False)"
   ]
  },
  {
   "cell_type": "code",
   "execution_count": 6,
   "id": "ec6111eb-fb06-4282-af86-12eb727900fc",
   "metadata": {},
   "outputs": [],
   "source": [
    "def combine():\n",
    "    gelfenbien = pd.read_csv(\"./raw-data/gelfenbien.csv\", na_filter = False) # empty cells are repesented as empty strings\n",
    "    kosher = pd.read_csv(\"./raw-data/kosher.csv\", na_filter = False) # empty cells are repesented as empty strings\n",
    "    McMahon = pd.read_csv(\"./raw-data/McMahon.csv\", na_filter = False) # empty cells are repesented as empty strings\n",
    "    north = pd.read_csv(\"./raw-data/north.csv\", na_filter = False) # empty cells are repesented as empty strings\n",
    "    northwest = pd.read_csv(\"./raw-data/northwest.csv\", na_filter = False) # empty cells are repesented as empty strings\n",
    "    putnam = pd.read_csv(\"./raw-data/putnam.csv\", na_filter = False) # empty cells are repesented as empty strings\n",
    "    south = pd.read_csv(\"./raw-data/south.csv\", na_filter = False) # empty cells are repesented as empty strings\n",
    "    whitney = pd.read_csv(\"./raw-data/whitney.csv\", na_filter = False) # empty cells are repesented as empty strings\n",
    "\n",
    "\n",
    "    frames = [gelfenbien, kosher, north, northwest, McMahon, putnam, south, whitney]\n",
    "\n",
    "    result = pd.concat(frames)\n",
    "    result = result.drop_duplicates(subset=\"Food Item\") # get rid of duplicates\n",
    "    # result = result.drop(['Dining Hall', 'Date'], axis = 1, inplace = True)\n",
    "\n",
    "    path = \"./preprocessed-data/allNutritionalInfo.csv\"\n",
    "    result.to_csv(path, encoding='utf-8', index=False)\n",
    "    \n",
    "combine()\n"
   ]
  },
  {
   "cell_type": "code",
   "execution_count": null,
   "id": "82bc146c-755a-446f-8f3b-577b2e72d8fe",
   "metadata": {},
   "outputs": [],
   "source": []
  }
 ],
 "metadata": {
  "kernelspec": {
   "display_name": "Python 3 (ipykernel)",
   "language": "python",
   "name": "python3"
  },
  "language_info": {
   "codemirror_mode": {
    "name": "ipython",
    "version": 3
   },
   "file_extension": ".py",
   "mimetype": "text/x-python",
   "name": "python",
   "nbconvert_exporter": "python",
   "pygments_lexer": "ipython3",
   "version": "3.9.12"
  },
  "vscode": {
   "interpreter": {
    "hash": "b0fa6594d8f4cbf19f97940f81e996739fb7646882a419484c72d19e05852a7e"
   }
  }
 },
 "nbformat": 4,
 "nbformat_minor": 5
}
