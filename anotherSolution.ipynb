{
 "cells": [
  {
   "cell_type": "code",
   "execution_count": 1,
   "id": "20db4836",
   "metadata": {
    "tags": []
   },
   "outputs": [],
   "source": [
    "dining_file = './preprocessed-data/alldininghalls.csv'\n",
    "ratings_file = './preprocessed-data/dining_ratings.csv'\n",
    "users_file = './preprocessed-data/normalizedValues.csv'\n",
    "nut_facts_file = './preprocessed-data/allNutritionalInfo.csv'"
   ]
  },
  {
   "cell_type": "code",
   "execution_count": 2,
   "id": "daf2b1da",
   "metadata": {
    "tags": []
   },
   "outputs": [],
   "source": [
    "import pandas as pd\n",
    "import numpy as np\n",
    "import torch\n",
    "import torch.nn as nn\n",
    "import botocore\n",
    "import boto3\n",
    "from botocore.exceptions import ClientError\n",
    "import botocore\n",
    "import json\n",
    "from datetime import date"
   ]
  },
  {
   "cell_type": "code",
   "execution_count": 3,
   "id": "33b76430",
   "metadata": {
    "tags": []
   },
   "outputs": [],
   "source": [
    "df = pd.read_csv(dining_file)\n",
    "diningRates = pd.read_csv(ratings_file)\n",
    "users = pd.read_csv(users_file)\n",
    "nut_file = pd.read_csv(nut_facts_file)"
   ]
  },
  {
   "cell_type": "code",
   "execution_count": 4,
   "id": "4193486f",
   "metadata": {
    "tags": []
   },
   "outputs": [],
   "source": [
    "#### collaborative filtering\n",
    "## find similar users\n",
    "from sklearn.preprocessing import OneHotEncoder, StandardScaler\n",
    "from sklearn.metrics.pairwise import cosine_similarity\n",
    "\n",
    "# Function to find similar users, pass in dataframe\n",
    "def find_similar_users(user, k=25):    \n",
    "    \n",
    "    users_df = users.copy()\n",
    "    new_user_df = user\n",
    "        \n",
    "    # Compute cosine similarity between new user and existing users\n",
    "    new_user_df.drop(columns = ['UserID'])\n",
    "    users_df.drop(columns = ['UserID'])\n",
    "    similarities = cosine_similarity(new_user_df, users_df)[0]\n",
    "    \n",
    "    # Find the top-k similar users\n",
    "    top_k_similar_users_indices = similarities.argsort()[-k-1:-1][::-1]\n",
    "    top_k_similar_users = users.iloc[top_k_similar_users_indices]\n",
    "    \n",
    "    # display(top_k_similar_users)\n",
    "    \n",
    "    return top_k_similar_users"
   ]
  },
  {
   "cell_type": "code",
   "execution_count": 5,
   "id": "c0efb25e",
   "metadata": {
    "tags": []
   },
   "outputs": [],
   "source": [
    "# Define the model\n",
    "class MatrixFactorization(nn.Module):\n",
    "    def __init__(self, n_users, n_food_items, n_factors=20):\n",
    "        super(MatrixFactorization, self).__init__()\n",
    "        self.user_factors = nn.Embedding(n_users, n_factors)\n",
    "        self.movie_factors = nn.Embedding(n_food_items, n_factors)\n",
    "        # initializing our matrices with a positive number generally will yield better results\n",
    "        self.user_factors.weight.data.uniform_(0, 0.5)\n",
    "        self.movie_factors.weight.data.uniform_(0, 0.5)\n",
    "        \n",
    "    def forward(self, user, food_item):\n",
    "        return (self.user_factors(user) * self.movie_factors(food_item)).sum(1)"
   ]
  },
  {
   "cell_type": "code",
   "execution_count": 6,
   "id": "a0561ad2",
   "metadata": {
    "tags": []
   },
   "outputs": [
    {
     "name": "stdout",
     "output_type": "stream",
     "text": [
      "610\n"
     ]
    }
   ],
   "source": [
    "# Load the MovieLens dataset\n",
    "diningHalls = df.copy()\n",
    "# diningRates = ratings.copy()\n",
    "\n",
    "# Preprocess the data\n",
    "n_users = diningRates.userId.unique().shape[0]\n",
    "print(n_users)\n",
    "n_foodItems = diningRates.foodItem.unique().shape[0]\n",
    "\n",
    "# Convert movieId and userId into unique integers\n",
    "user_map = {u: i for i, u in enumerate(diningRates.userId.unique())}\n",
    "diningRates['user_id'] = diningRates['userId'].map(user_map)\n",
    "\n",
    "dining_map = {m: i for i, m in enumerate(diningRates.foodItem.unique())}\n",
    "diningRates['food_item'] = diningRates['foodItem'].map(dining_map)"
   ]
  },
  {
   "cell_type": "code",
   "execution_count": 7,
   "id": "9cbfd6ee",
   "metadata": {
    "tags": []
   },
   "outputs": [
    {
     "name": "stdout",
     "output_type": "stream",
     "text": [
      "tensor(6.2625, grad_fn=<MseLossBackward0>)\n",
      "tensor(6.2469, grad_fn=<MseLossBackward0>)\n",
      "tensor(6.2313, grad_fn=<MseLossBackward0>)\n",
      "tensor(6.2158, grad_fn=<MseLossBackward0>)\n",
      "tensor(6.2004, grad_fn=<MseLossBackward0>)\n"
     ]
    }
   ],
   "source": [
    "model = MatrixFactorization(n_users, n_foodItems)\n",
    "criterion = nn.MSELoss()\n",
    "optimizer = torch.optim.SGD(model.parameters(), lr=0.01)\n",
    "\n",
    "# Train the model\n",
    "for i in range(50):\n",
    "    optimizer.zero_grad()\n",
    "    user = torch.LongTensor(diningRates.user_id)\n",
    "    movie = torch.LongTensor(diningRates.food_item)\n",
    "    rating = torch.FloatTensor(diningRates.rating)\n",
    "    predictions = model(user, movie)\n",
    "    loss = criterion(predictions, rating)\n",
    "    loss.backward()\n",
    "    optimizer.step()\n",
    "    \n",
    "    if i % 10 == 0:\n",
    "        print(loss)"
   ]
  },
  {
   "cell_type": "code",
   "execution_count": 8,
   "id": "11c5f66f",
   "metadata": {
    "tags": []
   },
   "outputs": [],
   "source": [
    "# Make recommendations for a given user\n",
    "def recommend_food(model, user_id, num_recommendations):\n",
    "    with torch.no_grad():\n",
    "        user = torch.LongTensor([user_map[user_id]])\n",
    "        food_items = torch.arange(n_foodItems)\n",
    "        ratings = model(user, food_items).detach().numpy()\n",
    "    food_ids = ratings.argsort()[-num_recommendations:][::-1]\n",
    "    recommended_food = [food_items[i] for i in food_ids]\n",
    "    return recommended_food"
   ]
  },
  {
   "cell_type": "code",
   "execution_count": 9,
   "id": "1b5c87eb",
   "metadata": {
    "tags": []
   },
   "outputs": [],
   "source": [
    "# Get recommendations for a user\n",
    "def getRecs(model, user_id, num_recs):\n",
    "    \n",
    "    \n",
    "    recommended_food = recommend_food(model, user_id, num_recs)\n",
    "\n",
    "    # Convert tensors to Int\n",
    "    val = []\n",
    "    for i in range(num_recs):\n",
    "        val.append(int(recommended_food[i]))\n",
    "\n",
    "    for id in val:\n",
    "        row = diningHalls.loc[diningHalls['foodId'] == id]\n",
    "        movie = row.values.tolist()\n",
    "        if len(movie) == 0:\n",
    "            continue\n",
    "    return val"
   ]
  },
  {
   "cell_type": "code",
   "execution_count": 10,
   "id": "052ff550",
   "metadata": {
    "tags": []
   },
   "outputs": [],
   "source": [
    "# recommendation for that particular user:\n",
    "\n",
    "def getSimilarUserRecs(model, userID, num_recs = 5):\n",
    "    similar_users = find_similar_users(userID) # added this\n",
    "    \n",
    "    replacement = similar_users['UserID'].values[:1][0]\n",
    "    # replacement_user = similar_users.drop(index=similar_users.index[0], axis=0, inplace=True)\n",
    "    replacement_user = similar_users.tail(-1)\n",
    "\n",
    "    # print(replacement_user)\n",
    "\n",
    "\n",
    "    recs = []\n",
    "    recs += getRecs(model, replacement, num_recs)\n",
    "    \n",
    "    # recommendation for similar users:\n",
    "    for user in replacement_user['UserID'].tolist():\n",
    "        recs += getRecs(model, user, num_recs)\n",
    "    recs = set(recs)\n",
    "    food_recs = df[df['foodId'].isin(recs)]\n",
    "        \n",
    "    return food_recs\n",
    "\n",
    "# a = checkUserExistence()\n",
    "# getSimilarUserRecs(model, 1)"
   ]
  },
  {
   "cell_type": "code",
   "execution_count": 11,
   "id": "5981262b",
   "metadata": {
    "tags": []
   },
   "outputs": [],
   "source": [
    "# Now do content filtering\n",
    "\n",
    "def contentFiltering(df, dHall_pref, allergens, diet_restr, meal):     \n",
    "        \n",
    "    # filter by meal\n",
    "    recs = df.loc[(df[meal] == 1)] # works\n",
    "    recs = recs.drop_duplicates(subset=\"Food Item\") # remove duplicates\n",
    "        \n",
    "    # filter by dining \n",
    "    if len(dHall_pref) == 0:\n",
    "        pass\n",
    "    else:\n",
    "        for index, row in recs.iterrows():\n",
    "            L = []\n",
    "            actual_index = row[\"foodId\"]\n",
    "            for pref in dHall_pref:  \n",
    "\n",
    "                if row[pref] == 0: L.append(0)\n",
    "                else: L.append(1)\n",
    "\n",
    "            all_zeros = all(val == 0 for val in L)\n",
    "            if all_zeros == True: \n",
    "                recs = recs.drop(actual_index)\n",
    "            \n",
    "    # filter by allergens \n",
    "    if len(allergens) == 0:\n",
    "        pass\n",
    "    else:\n",
    "        for index, row in recs.iterrows():\n",
    "            L = []\n",
    "            actual_index = row[\"foodId\"]\n",
    "            for allergen in allergens:  \n",
    "\n",
    "                if row[allergen] == 1: L.append(1)\n",
    "                else: L.append(0)\n",
    "\n",
    "            all_zeros = all(val == 0 for val in L)\n",
    "            # If there is an allergen present, a 1 in the list, drop it\n",
    "            if all_zeros == False: \n",
    "                recs = recs.drop(actual_index)\n",
    "\n",
    "    # filter by dietary restrictions\n",
    "    if len(diet_restr) == 0:\n",
    "        pass\n",
    "    else:\n",
    "        for index, row in recs.iterrows():\n",
    "            L = []\n",
    "            actual_index = row[\"foodId\"]\n",
    "            for restr in diet_restr:  \n",
    "\n",
    "                if row[restr] == 0: L.append(0)\n",
    "                else: L.append(1)\n",
    "\n",
    "            all_zeros = all(val == 0 for val in L)\n",
    "            # If there is an allergen present, a 1 in the list, drop it\n",
    "            if all_zeros == True: \n",
    "                recs = recs.drop(actual_index)\n",
    "    \n",
    "  \n",
    "    df_input = [\"foodId\", \"Food Item\"]\n",
    "    for pref in dHall_pref:\n",
    "        df_input.append(pref)\n",
    "\n",
    "    a = recs[df_input] # gets only necessary values\n",
    "    obj = a.to_dict(orient=\"records\") \n",
    "        \n",
    "    return obj"
   ]
  },
  {
   "cell_type": "code",
   "execution_count": 12,
   "id": "74d78597-cc8b-414b-965d-231bf1003f71",
   "metadata": {
    "tags": []
   },
   "outputs": [],
   "source": [
    "# Check to see if food is being served at specified Dining hall\n",
    "def checkDiningHall(recs, dHallPref, meal):\n",
    "    bucket = \"dininghall-data-cache\"\n",
    "\n",
    "    s3 = boto3.client('s3')\n",
    "    today = date.today()\n",
    "    dd = today.strftime(\"%d\")\n",
    "    mm = today.strftime(\"%m\")\n",
    "    yyyy = today.strftime(\"%Y\")\n",
    "     \n",
    "    L = []\n",
    "    # Check to see if user has a preference\n",
    "    if len(dHallPref) > 0:\n",
    "        \n",
    "        # For each recommended item\n",
    "        for item in recs:\n",
    "        \n",
    "            # Check all preferred dining halls to see if food item is being served\n",
    "            for pref in dHallPref:\n",
    "\n",
    "                # If a user has a preference, see if its currently being served at their preferred dining hall\n",
    "                if item[pref] == 1:\n",
    "                    dHall = item[pref]\n",
    "\n",
    "                    key = \"{}-{}-{}-{}-{}.json\".format(pref.capitalize(), meal, mm, dd, yyyy) # pref is the dining hall\n",
    "                    response = s3.get_object(Bucket=bucket, Key=key)\n",
    "                    content = response['Body'].read()\n",
    "                    data = json.loads(content)\n",
    "\n",
    "                    for food_item in data:\n",
    "                        if food_item[\"Food Item\"] == item[\"Food Item\"]:\n",
    "                            # print(\"IT ACTUALLY FUCKING WORKS!!!\")\n",
    "                            L.append(food_item)\n",
    "                            \n",
    "    else:\n",
    "        # User does not have a preference, recommend food from anywhere\n",
    "        dHalls = [\"gelfenbien\", \"kosher\", \"north\", \"northwest\", \"McMahon\", \"putnam\", \"south\", \"whitney\"]\n",
    "\n",
    "        for item in recs:\n",
    "            \n",
    "            # Check each dining hall to see if item is being served\n",
    "            for dining_hall in dHalls:\n",
    "\n",
    "                if dining_hall == \"McMahon\": continue\n",
    "                else: dining_hall = dining_hall.capitalize()\n",
    "\n",
    "\n",
    "                key = \"{}-{}-{}-{}-{}.json\".format(dining_hall, meal, mm, dd, yyyy) # pref is the dining hall\n",
    "                response = s3.get_object(Bucket=bucket, Key=key)\n",
    "                content = response['Body'].read()\n",
    "                data = json.loads(content)\n",
    "\n",
    "                for food_item in data:\n",
    "                    if food_item[\"Food Item\"] == item[\"Food Item\"]:\n",
    "                        # print(\"IT ACTUALLY FUCKING WORKS!!!\")\n",
    "                        L.append(food_item)          \n",
    "    \n",
    "    # Make sure we dont return too many recommendations\n",
    "    if len(L) > 5:\n",
    "        L = L[0:5]\n",
    "        \n",
    "    return L                           "
   ]
  },
  {
   "cell_type": "code",
   "execution_count": 13,
   "id": "84798e99-589e-4b7a-8fd7-da245f99afb1",
   "metadata": {
    "tags": []
   },
   "outputs": [],
   "source": [
    "def constructDataframe(userID, user_dHallPref, user_allergens, user_dietary_restrictions, user_meal, user_height, user_weight):\n",
    "    # Construct User Dataframe\n",
    "    features = other + allergens + dietary_restrictions + dHalls\n",
    "    L = []\n",
    "\n",
    "    L.append(userID)\n",
    "    L.append(user_weight)\n",
    "    L.append(user_height)\n",
    "\n",
    "\n",
    "    for allergen in allergens:\n",
    "\n",
    "        if allergen in user_allergens: L.append(1)\n",
    "        else: L.append(0)\n",
    "\n",
    "    for diet_restr in dietary_restrictions:\n",
    "\n",
    "        if diet_restr in user_dietary_restrictions: L.append(1)\n",
    "        else: L.append(0)\n",
    "\n",
    "    for dHall in dHalls:\n",
    "\n",
    "        if dHall in user_dHallPref: L.append(1)\n",
    "        else: L.append(0)\n",
    "\n",
    "\n",
    "    # user dataframe\n",
    "    user = pd.DataFrame([L], columns = features, index=['610'])\n",
    "\n",
    "    # Normalize height and weight values\n",
    "    user['Height'] = user['Height'].apply(lambda x:int(x.split('\\'')[0])*12+int(x.split('\\'')[1]))\n",
    "    numerical_features = ['Weight (lbs)', 'Height']\n",
    "    numerical_data = user[numerical_features]\n",
    "    scaler = StandardScaler()\n",
    "    numerical_data_scaled = scaler.fit_transform(numerical_data)\n",
    "    user[numerical_features] = numerical_data_scaled\n",
    "\n",
    "    return user\n"
   ]
  },
  {
   "cell_type": "code",
   "execution_count": 14,
   "id": "3c793d75-bd1a-4363-b518-cb9c2401c0c6",
   "metadata": {},
   "outputs": [
    {
     "data": {
      "text/plain": [
       "[{'foodId': 737, 'Food Item': 'Grilled Hot Dogs', 'gelfenbien': 1},\n",
       " {'foodId': 1103, 'Food Item': 'Garlic Bread', 'gelfenbien': 1}]"
      ]
     },
     "execution_count": 14,
     "metadata": {},
     "output_type": "execute_result"
    }
   ],
   "source": [
    "other = [\"UserID\", \"Weight (lbs)\", \"Height\"]\n",
    "meals = ['Breakfast', 'Lunch', 'Dinner']\n",
    "allergens = ['Fish', 'Soybeans', 'Wheat', 'Gluten', 'Milk', 'Tree Nuts', 'Eggs', 'Sesame', 'Crustacean Shellfish']\n",
    "dietary_restrictions = ['Gluten Friendly', 'Less Sodium', 'Smart Check', 'Vegan', 'Vegetarian', 'Contains Nuts']\n",
    "dHalls = [\"gelfenbien\", \"kosher\", \"north\", \"northwest\", \"McMahon\", \"putnam\", \"south\", \"whitney\"]\n",
    "user_dHallPref = [\"gelfenbien\"]\n",
    "user_allergens = [\"Milk\"]\n",
    "user_dietary_restrictions = []\n",
    "user_meal = \"Dinner\"\n",
    "user_height = \"6'2\"\n",
    "user_weight = \"200\"\n",
    "# userID = \"ijb2ih5g34tbi31ugt4pi31v5it34t\"\n",
    "userID = 1200\n",
    "\n",
    "# Initialize values\n",
    "# n_users = 0\n",
    "# n_foodItems = 0\n",
    "\n",
    "user = constructDataframe(userID, user_dHallPref, user_allergens, user_dietary_restrictions, user_meal, user_height, user_weight)\n",
    "# user \n",
    "\n",
    "\n",
    "df = getSimilarUserRecs(model, user, 10) # dataframe\n",
    "recs = contentFiltering(df, user_dHallPref, user_allergens, user_dietary_restrictions, user_meal) # [\"Food Item\"].tolist()\n",
    "check = checkDiningHall(recs, user_dHallPref, user_meal)\n",
    "recs\n",
    "# check\n"
   ]
  },
  {
   "cell_type": "code",
   "execution_count": 22,
   "id": "8169048e-77da-48e5-a05a-0fafc582802f",
   "metadata": {},
   "outputs": [
    {
     "name": "stdout",
     "output_type": "stream",
     "text": [
      "[1, 2, 3, 4, 5]\n"
     ]
    }
   ],
   "source": [
    "# Create New List with Item\n",
    "myList = [1, 2, 3, 4, 5, 6, 7, 8, 9, 10, 11, 12]\n",
    "  \n",
    "n = 5\n",
    "\n",
    "# Python Get Get 2 Elements from List\n",
    "newList = myList[0:n]\n",
    "  \n",
    "print(newList)"
   ]
  },
  {
   "cell_type": "code",
   "execution_count": null,
   "id": "e13fce82-b7aa-4982-b009-69eb25d3fa99",
   "metadata": {},
   "outputs": [],
   "source": []
  }
 ],
 "metadata": {
  "kernelspec": {
   "display_name": "Python 3 (ipykernel)",
   "language": "python",
   "name": "python3"
  },
  "language_info": {
   "codemirror_mode": {
    "name": "ipython",
    "version": 3
   },
   "file_extension": ".py",
   "mimetype": "text/x-python",
   "name": "python",
   "nbconvert_exporter": "python",
   "pygments_lexer": "ipython3",
   "version": "3.9.12"
  }
 },
 "nbformat": 4,
 "nbformat_minor": 5
}
