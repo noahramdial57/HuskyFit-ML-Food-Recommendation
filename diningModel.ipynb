{
 "cells": [
  {
   "cell_type": "code",
   "execution_count": 1,
   "id": "fcd22558-a29d-4bdc-a5ac-f929726aa45b",
   "metadata": {
    "tags": []
   },
   "outputs": [],
   "source": [
    "import torch\n",
    "import torch.nn as nn\n",
    "import pandas as pd"
   ]
  },
  {
   "cell_type": "code",
   "execution_count": 2,
   "id": "b5ab1381-142d-482e-91fd-da3678015f54",
   "metadata": {
    "tags": []
   },
   "outputs": [],
   "source": [
    "# Define the model\n",
    "class MatrixFactorization(nn.Module):\n",
    "    def __init__(self, n_users, n_movies, n_factors=20):\n",
    "        super(MatrixFactorization, self).__init__()\n",
    "        self.user_factors = nn.Embedding(n_users, n_factors)\n",
    "        self.movie_factors = nn.Embedding(n_movies, n_factors)\n",
    "        # initializing our matrices with a positive number generally will yield better results\n",
    "        self.user_factors.weight.data.uniform_(0, 0.5)\n",
    "        self.movie_factors.weight.data.uniform_(0, 0.5)\n",
    "        \n",
    "    def forward(self, user, movie):\n",
    "        return (self.user_factors(user) * self.movie_factors(movie)).sum(1)"
   ]
  },
  {
   "cell_type": "code",
   "execution_count": 3,
   "id": "942dfcdc-acf7-4b43-bc45-6f0e887f2552",
   "metadata": {
    "tags": []
   },
   "outputs": [],
   "source": [
    "# Load the MovieLens dataset\n",
    "diningHalls = pd.read_csv('./preprocessed-data/alldininghalls.csv')\n",
    "diningRates = pd.read_csv('./preprocessed-data/dining_ratings.csv')\n",
    "\n",
    "# Preprocess the data\n",
    "n_users = diningRates.userId.unique().shape[0]\n",
    "n_foodItems = diningRates.foodItem.unique().shape[0]\n",
    "\n",
    "# Convert movieId and userId into unique integers\n",
    "user_map = {u: i for i, u in enumerate(diningRates.userId.unique())}\n",
    "diningRates['user_id'] = diningRates['userId'].map(user_map)\n",
    "\n",
    "dining_map = {m: i for i, m in enumerate(diningRates.foodItem.unique())}\n",
    "diningRates['food_item'] = diningRates['foodItem'].map(dining_map)\n",
    "\n",
    "# Create a matrix with users as rows and movies as columns\n",
    "matrix = torch.zeros((n_users, n_foodItems))\n",
    "for i, row in diningRates.iterrows():\n",
    "    matrix[int(row.user_id), int(row.food_item)] = row.rating"
   ]
  },
  {
   "cell_type": "code",
   "execution_count": 4,
   "id": "3d1ef397-9f05-4d7c-91bd-a31478db9e2b",
   "metadata": {
    "tags": []
   },
   "outputs": [
    {
     "name": "stdout",
     "output_type": "stream",
     "text": [
      "tensor(6.1235, grad_fn=<MseLossBackward0>)\n",
      "tensor(6.1091, grad_fn=<MseLossBackward0>)\n",
      "tensor(6.0948, grad_fn=<MseLossBackward0>)\n",
      "tensor(6.0805, grad_fn=<MseLossBackward0>)\n",
      "tensor(6.0663, grad_fn=<MseLossBackward0>)\n",
      "tensor(6.0522, grad_fn=<MseLossBackward0>)\n",
      "tensor(6.0381, grad_fn=<MseLossBackward0>)\n",
      "tensor(6.0241, grad_fn=<MseLossBackward0>)\n",
      "tensor(6.0102, grad_fn=<MseLossBackward0>)\n",
      "tensor(5.9963, grad_fn=<MseLossBackward0>)\n"
     ]
    }
   ],
   "source": [
    "model = MatrixFactorization(n_users, n_foodItems)\n",
    "criterion = nn.MSELoss()\n",
    "optimizer = torch.optim.SGD(model.parameters(), lr=0.01)\n",
    "\n",
    "# Train the model\n",
    "for i in range(100):\n",
    "    optimizer.zero_grad()\n",
    "    user = torch.LongTensor(diningRates.user_id)\n",
    "    movie = torch.LongTensor(diningRates.food_item)\n",
    "    rating = torch.FloatTensor(diningRates.rating)\n",
    "    predictions = model(user, movie)\n",
    "    loss = criterion(predictions, rating)\n",
    "    loss.backward()\n",
    "    optimizer.step()\n",
    "    \n",
    "    if i % 10 == 0:\n",
    "        print(loss)\n"
   ]
  },
  {
   "cell_type": "code",
   "execution_count": 5,
   "id": "27760998-9972-4dd8-86a4-69f8f037cb5b",
   "metadata": {
    "tags": []
   },
   "outputs": [],
   "source": [
    "# Make recommendations for a given user\n",
    "def recommend_movies(model, user_id, num_recommendations):\n",
    "    with torch.no_grad():\n",
    "        user = torch.LongTensor([user_map[user_id]])\n",
    "        movies = torch.arange(n_foodItems)\n",
    "        ratings = model(user, movies).detach().numpy()\n",
    "    movie_ids = ratings.argsort()[-num_recommendations:][::-1]\n",
    "    recommended_movies = [movies[i] for i in movie_ids]\n",
    "    return recommended_movies"
   ]
  },
  {
   "cell_type": "code",
   "execution_count": 9,
   "id": "fe58284a-e169-4d94-9582-6ccf983d9690",
   "metadata": {
    "tags": []
   },
   "outputs": [],
   "source": [
    "# Get recommendations for a user with user_id 1\n",
    "def getRecs(model, user_id, num_recs):\n",
    "    recommended_movies = recommend_movies(model, user_id, num_recs)\n",
    "\n",
    "    # Convert tensors to Int\n",
    "    val = []\n",
    "    for i in range(num_recs):\n",
    "        val.append(int(recommended_movies[i]))\n",
    "\n",
    "    for id in val:\n",
    "        row = diningHalls.loc[diningHalls['foodId'] == id]\n",
    "        # print(type(row))\n",
    "        movie = row.values.tolist()\n",
    "        if len(movie) == 0:\n",
    "            continue\n",
    "        print(movie[0][1])\n",
    "        \n",
    "def getUserInfo(user):\n",
    "    row = diningRates.loc[diningRates['userId'] == user]\n",
    "    x = row.loc[diningRates['rating'] >= 5.0]\n",
    "    foodIDS = x['foodItem'].values\n",
    "\n",
    "    for id in foodIDS:\n",
    "        movie = diningHalls.loc[diningHalls['foodId'] == id]\n",
    "        a = movie.values.tolist()\n",
    "        try:\n",
    "            print(a[0][1])\n",
    "        except:\n",
    "            pass\n"
   ]
  },
  {
   "cell_type": "code",
   "execution_count": 11,
   "id": "5fb722cb-e32d-49fb-bfc1-4ee9eda62804",
   "metadata": {
    "tags": []
   },
   "outputs": [
    {
     "name": "stdout",
     "output_type": "stream",
     "text": [
      "Recommendations for User 34: \n",
      "\n",
      "Honey Glazed Carrots\n",
      "Sticky Rice\n",
      "Ziti and Beef Cheesy Bake\n",
      "Grilled Cheese\n",
      "\n",
      "----------------------------------------------------------------------------------------\n",
      "\n",
      "Food Items that User 34 has rated over 5.0:\n",
      "\n",
      "Oatmeal Cereal\n",
      "French Toast\n",
      "Bacon\n",
      "Grilled Chorizo Sausage\n",
      "Broccoli Saute\n",
      "Roasted Asparagus\n",
      "Sticky Rice\n",
      "Wood Grilled Cheese Pizza\n",
      "Roasted Cauliflower\n",
      "Grilled Cheese\n",
      "Grilled Chorizo Sausage\n"
     ]
    },
    {
     "ename": "IndexError",
     "evalue": "list index out of range",
     "output_type": "error",
     "traceback": [
      "\u001b[1;31m---------------------------------------------------------------------------\u001b[0m",
      "\u001b[1;31mIndexError\u001b[0m                                Traceback (most recent call last)",
      "\u001b[1;32m~\\AppData\\Local\\Temp/ipykernel_4864/2630720796.py\u001b[0m in \u001b[0;36m<module>\u001b[1;34m\u001b[0m\n\u001b[0;32m      8\u001b[0m \u001b[0mprint\u001b[0m\u001b[1;33m(\u001b[0m\u001b[1;34m\"Food Items that User {} has rated over 5.0:\"\u001b[0m\u001b[1;33m.\u001b[0m\u001b[0mformat\u001b[0m\u001b[1;33m(\u001b[0m\u001b[0muserID\u001b[0m\u001b[1;33m)\u001b[0m\u001b[1;33m)\u001b[0m\u001b[1;33m\u001b[0m\u001b[1;33m\u001b[0m\u001b[0m\n\u001b[0;32m      9\u001b[0m \u001b[0mprint\u001b[0m\u001b[1;33m(\u001b[0m\u001b[1;33m)\u001b[0m\u001b[1;33m\u001b[0m\u001b[1;33m\u001b[0m\u001b[0m\n\u001b[1;32m---> 10\u001b[1;33m \u001b[0mgetUserInfo\u001b[0m\u001b[1;33m(\u001b[0m\u001b[0muserID\u001b[0m\u001b[1;33m)\u001b[0m\u001b[1;33m\u001b[0m\u001b[1;33m\u001b[0m\u001b[0m\n\u001b[0m",
      "\u001b[1;32m~\\AppData\\Local\\Temp/ipykernel_4864/4173141731.py\u001b[0m in \u001b[0;36mgetUserInfo\u001b[1;34m(user)\u001b[0m\n\u001b[0;32m     24\u001b[0m         \u001b[0mmovie\u001b[0m \u001b[1;33m=\u001b[0m \u001b[0mdiningHalls\u001b[0m\u001b[1;33m.\u001b[0m\u001b[0mloc\u001b[0m\u001b[1;33m[\u001b[0m\u001b[0mdiningHalls\u001b[0m\u001b[1;33m[\u001b[0m\u001b[1;34m'foodId'\u001b[0m\u001b[1;33m]\u001b[0m \u001b[1;33m==\u001b[0m \u001b[0mid\u001b[0m\u001b[1;33m]\u001b[0m\u001b[1;33m\u001b[0m\u001b[1;33m\u001b[0m\u001b[0m\n\u001b[0;32m     25\u001b[0m         \u001b[0ma\u001b[0m \u001b[1;33m=\u001b[0m \u001b[0mmovie\u001b[0m\u001b[1;33m.\u001b[0m\u001b[0mvalues\u001b[0m\u001b[1;33m.\u001b[0m\u001b[0mtolist\u001b[0m\u001b[1;33m(\u001b[0m\u001b[1;33m)\u001b[0m\u001b[1;33m\u001b[0m\u001b[1;33m\u001b[0m\u001b[0m\n\u001b[1;32m---> 26\u001b[1;33m         \u001b[0mprint\u001b[0m\u001b[1;33m(\u001b[0m\u001b[0ma\u001b[0m\u001b[1;33m[\u001b[0m\u001b[1;36m0\u001b[0m\u001b[1;33m]\u001b[0m\u001b[1;33m[\u001b[0m\u001b[1;36m1\u001b[0m\u001b[1;33m]\u001b[0m\u001b[1;33m)\u001b[0m\u001b[1;33m\u001b[0m\u001b[1;33m\u001b[0m\u001b[0m\n\u001b[0m",
      "\u001b[1;31mIndexError\u001b[0m: list index out of range"
     ]
    }
   ],
   "source": [
    "userID = 34\n",
    "print(\"Recommendations for User {}: \".format(userID))\n",
    "print()\n",
    "getRecs(model, userID, 5)\n",
    "print()\n",
    "print(\"----------------------------------------------------------------------------------------\")\n",
    "print()\n",
    "print(\"Food Items that User {} has rated over 5.0:\".format(userID)) \n",
    "print()\n",
    "getUserInfo(userID)"
   ]
  },
  {
   "cell_type": "code",
   "execution_count": null,
   "id": "f160ce61",
   "metadata": {},
   "outputs": [],
   "source": []
  }
 ],
 "metadata": {
  "kernelspec": {
   "display_name": "Python 3 (ipykernel)",
   "language": "python",
   "name": "python3"
  },
  "language_info": {
   "codemirror_mode": {
    "name": "ipython",
    "version": 3
   },
   "file_extension": ".py",
   "mimetype": "text/x-python",
   "name": "python",
   "nbconvert_exporter": "python",
   "pygments_lexer": "ipython3",
   "version": "3.9.12"
  }
 },
 "nbformat": 4,
 "nbformat_minor": 5
}
