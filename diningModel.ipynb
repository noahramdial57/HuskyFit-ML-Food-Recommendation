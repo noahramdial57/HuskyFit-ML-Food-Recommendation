{
 "cells": [
  {
   "cell_type": "code",
   "execution_count": 1,
   "id": "fcd22558-a29d-4bdc-a5ac-f929726aa45b",
   "metadata": {
    "tags": []
   },
   "outputs": [],
   "source": [
    "import torch\n",
    "import torch.nn as nn\n",
    "import pandas as pd"
   ]
  },
  {
   "cell_type": "code",
   "execution_count": 2,
   "id": "b5ab1381-142d-482e-91fd-da3678015f54",
   "metadata": {
    "tags": []
   },
   "outputs": [],
   "source": [
    "# Define the model\n",
    "class MatrixFactorization(nn.Module):\n",
    "    def __init__(self, n_users, n_movies, n_factors=20):\n",
    "        super(MatrixFactorization, self).__init__()\n",
    "        self.user_factors = nn.Embedding(n_users, n_factors)\n",
    "        self.movie_factors = nn.Embedding(n_movies, n_factors)\n",
    "        # initializing our matrices with a positive number generally will yield better results\n",
    "        self.user_factors.weight.data.uniform_(0, 0.5)\n",
    "        self.movie_factors.weight.data.uniform_(0, 0.5)\n",
    "        \n",
    "    def forward(self, user, movie):\n",
    "        return (self.user_factors(user) * self.movie_factors(movie)).sum(1)"
   ]
  },
  {
   "cell_type": "code",
   "execution_count": 17,
   "id": "942dfcdc-acf7-4b43-bc45-6f0e887f2552",
   "metadata": {
    "tags": []
   },
   "outputs": [],
   "source": [
    "# Load the MovieLens dataset\n",
    "diningHalls = pd.read_csv('./preprocessed-data/alldininghalls.csv')\n",
    "diningRates = pd.read_csv('./preprocessed-data/dining_ratings.csv')\n",
    "\n",
    "# Preprocess the data\n",
    "n_users = diningRates.userId.unique().shape[0]\n",
    "n_foodItems = diningRates.foodItem.unique().shape[0]\n",
    "\n",
    "# Convert movieId and userId into unique integers\n",
    "user_map = {u: i for i, u in enumerate(diningRates.userId.unique())}\n",
    "diningRates['user_id'] = diningRates['userId'].map(user_map)\n",
    "\n",
    "dining_map = {m: i for i, m in enumerate(diningRates.foodItem.unique())}\n",
    "diningRates['food_item'] = diningRates['foodItem'].map(dining_map)\n",
    "\n",
    "# Create a matrix with users as rows and movies as columns\n",
    "matrix = torch.zeros((n_users, n_foodItems))\n",
    "for i, row in diningRates.iterrows():\n",
    "    matrix[int(row.user_id), int(row.food_item)] = row.rating"
   ]
  },
  {
   "cell_type": "code",
   "execution_count": 19,
   "id": "3d1ef397-9f05-4d7c-91bd-a31478db9e2b",
   "metadata": {
    "tags": []
   },
   "outputs": [
    {
     "name": "stdout",
     "output_type": "stream",
     "text": [
      "tensor(6.3124, grad_fn=<MseLossBackward0>)\n",
      "tensor(6.2974, grad_fn=<MseLossBackward0>)\n",
      "tensor(6.2824, grad_fn=<MseLossBackward0>)\n",
      "tensor(6.2675, grad_fn=<MseLossBackward0>)\n",
      "tensor(6.2527, grad_fn=<MseLossBackward0>)\n",
      "tensor(6.2379, grad_fn=<MseLossBackward0>)\n",
      "tensor(6.2232, grad_fn=<MseLossBackward0>)\n",
      "tensor(6.2086, grad_fn=<MseLossBackward0>)\n",
      "tensor(6.1940, grad_fn=<MseLossBackward0>)\n",
      "tensor(6.1795, grad_fn=<MseLossBackward0>)\n"
     ]
    }
   ],
   "source": [
    "model = MatrixFactorization(n_users, n_foodItems)\n",
    "criterion = nn.MSELoss()\n",
    "optimizer = torch.optim.SGD(model.parameters(), lr=0.01)\n",
    "\n",
    "# Train the model\n",
    "for i in range(100):\n",
    "    optimizer.zero_grad()\n",
    "    user = torch.LongTensor(diningRates.user_id)\n",
    "    movie = torch.LongTensor(diningRates.food_item)\n",
    "    rating = torch.FloatTensor(diningRates.rating)\n",
    "    predictions = model(user, movie)\n",
    "    loss = criterion(predictions, rating)\n",
    "    loss.backward()\n",
    "    optimizer.step()\n",
    "    \n",
    "    if i % 10 == 0:\n",
    "        print(loss)\n"
   ]
  },
  {
   "cell_type": "code",
   "execution_count": 20,
   "id": "27760998-9972-4dd8-86a4-69f8f037cb5b",
   "metadata": {
    "tags": []
   },
   "outputs": [],
   "source": [
    "# Make recommendations for a given user\n",
    "def recommend_movies(model, user_id, num_recommendations):\n",
    "    with torch.no_grad():\n",
    "        user = torch.LongTensor([user_map[user_id]])\n",
    "        movies = torch.arange(n_foodItems)\n",
    "        ratings = model(user, movies).detach().numpy()\n",
    "    movie_ids = ratings.argsort()[-num_recommendations:][::-1]\n",
    "    recommended_movies = [movies[i] for i in movie_ids]\n",
    "    return recommended_movies"
   ]
  },
  {
   "cell_type": "code",
   "execution_count": 23,
   "id": "fe58284a-e169-4d94-9582-6ccf983d9690",
   "metadata": {},
   "outputs": [],
   "source": [
    "# Get recommendations for a user with user_id 1\n",
    "def getRecs(model, user_id, num_recs):\n",
    "    recommended_movies = recommend_movies(model, user_id, num_recs)\n",
    "\n",
    "    # Convert tensors to Int\n",
    "    val = []\n",
    "    for i in range(num_recs):\n",
    "        val.append(int(recommended_movies[i]))\n",
    "\n",
    "    for id in val:\n",
    "        row = diningHalls.loc[diningHalls['foodId'] == id]\n",
    "        # print(type(row))\n",
    "        movie = row.values.tolist()\n",
    "        if len(movie) == 0:\n",
    "            continue\n",
    "        print(movie)\n",
    "        \n",
    "def getUserInfo(user):\n",
    "    row = diningRates.loc[diningRates['userId'] == user]\n",
    "    x = row.loc[diningRates['rating'] >= 5.0]\n",
    "    foodIDS = x['foodId'].values\n",
    "\n",
    "    for id in foodIDS:\n",
    "        movie = diningHalls.loc[diningHalls['foodId'] == id]\n",
    "        print(movie.values.tolist())\n",
    "        print()"
   ]
  },
  {
   "cell_type": "code",
   "execution_count": 22,
   "id": "5fb722cb-e32d-49fb-bfc1-4ee9eda62804",
   "metadata": {},
   "outputs": [
    {
     "name": "stdout",
     "output_type": "stream",
     "text": [
      "Recommendations for User 100: \n",
      "\n"
     ]
    },
    {
     "ename": "KeyError",
     "evalue": "'movieId'",
     "output_type": "error",
     "traceback": [
      "\u001b[0;31m---------------------------------------------------------------------------\u001b[0m",
      "\u001b[0;31mKeyError\u001b[0m                                  Traceback (most recent call last)",
      "File \u001b[0;32m/nix/store/1w3cj75rg7f1cnia14shgyi8vz3qd5gm-python3-3.10.9-env/lib/python3.10/site-packages/pandas/core/indexes/base.py:3803\u001b[0m, in \u001b[0;36mIndex.get_loc\u001b[0;34m(self, key, method, tolerance)\u001b[0m\n\u001b[1;32m   3802\u001b[0m \u001b[39mtry\u001b[39;00m:\n\u001b[0;32m-> 3803\u001b[0m     \u001b[39mreturn\u001b[39;00m \u001b[39mself\u001b[39;49m\u001b[39m.\u001b[39;49m_engine\u001b[39m.\u001b[39;49mget_loc(casted_key)\n\u001b[1;32m   3804\u001b[0m \u001b[39mexcept\u001b[39;00m \u001b[39mKeyError\u001b[39;00m \u001b[39mas\u001b[39;00m err:\n",
      "File \u001b[0;32m/nix/store/1w3cj75rg7f1cnia14shgyi8vz3qd5gm-python3-3.10.9-env/lib/python3.10/site-packages/pandas/_libs/index.pyx:138\u001b[0m, in \u001b[0;36mpandas._libs.index.IndexEngine.get_loc\u001b[0;34m()\u001b[0m\n",
      "File \u001b[0;32m/nix/store/1w3cj75rg7f1cnia14shgyi8vz3qd5gm-python3-3.10.9-env/lib/python3.10/site-packages/pandas/_libs/index.pyx:165\u001b[0m, in \u001b[0;36mpandas._libs.index.IndexEngine.get_loc\u001b[0;34m()\u001b[0m\n",
      "File \u001b[0;32mpandas/_libs/hashtable_class_helper.pxi:5745\u001b[0m, in \u001b[0;36mpandas._libs.hashtable.PyObjectHashTable.get_item\u001b[0;34m()\u001b[0m\n",
      "File \u001b[0;32mpandas/_libs/hashtable_class_helper.pxi:5753\u001b[0m, in \u001b[0;36mpandas._libs.hashtable.PyObjectHashTable.get_item\u001b[0;34m()\u001b[0m\n",
      "\u001b[0;31mKeyError\u001b[0m: 'movieId'",
      "\nThe above exception was the direct cause of the following exception:\n",
      "\u001b[0;31mKeyError\u001b[0m                                  Traceback (most recent call last)",
      "\u001b[1;32m/Users/morp/Dropbox/UCONN/4_Senior_Year/Semester_1/CSE-4939W/HuskyFit-ML-Food-Recommendation/diningModel.ipynb Cell 7\u001b[0m in \u001b[0;36m<cell line: 4>\u001b[0;34m()\u001b[0m\n\u001b[1;32m      <a href='vscode-notebook-cell:/Users/morp/Dropbox/UCONN/4_Senior_Year/Semester_1/CSE-4939W/HuskyFit-ML-Food-Recommendation/diningModel.ipynb#X15sZmlsZQ%3D%3D?line=1'>2</a>\u001b[0m \u001b[39mprint\u001b[39m(\u001b[39m\"\u001b[39m\u001b[39mRecommendations for User \u001b[39m\u001b[39m{}\u001b[39;00m\u001b[39m: \u001b[39m\u001b[39m\"\u001b[39m\u001b[39m.\u001b[39mformat(userID))\n\u001b[1;32m      <a href='vscode-notebook-cell:/Users/morp/Dropbox/UCONN/4_Senior_Year/Semester_1/CSE-4939W/HuskyFit-ML-Food-Recommendation/diningModel.ipynb#X15sZmlsZQ%3D%3D?line=2'>3</a>\u001b[0m \u001b[39mprint\u001b[39m()\n\u001b[0;32m----> <a href='vscode-notebook-cell:/Users/morp/Dropbox/UCONN/4_Senior_Year/Semester_1/CSE-4939W/HuskyFit-ML-Food-Recommendation/diningModel.ipynb#X15sZmlsZQ%3D%3D?line=3'>4</a>\u001b[0m getRecs(model, userID, \u001b[39m5\u001b[39;49m)\n\u001b[1;32m      <a href='vscode-notebook-cell:/Users/morp/Dropbox/UCONN/4_Senior_Year/Semester_1/CSE-4939W/HuskyFit-ML-Food-Recommendation/diningModel.ipynb#X15sZmlsZQ%3D%3D?line=4'>5</a>\u001b[0m \u001b[39mprint\u001b[39m()\n\u001b[1;32m      <a href='vscode-notebook-cell:/Users/morp/Dropbox/UCONN/4_Senior_Year/Semester_1/CSE-4939W/HuskyFit-ML-Food-Recommendation/diningModel.ipynb#X15sZmlsZQ%3D%3D?line=5'>6</a>\u001b[0m \u001b[39mprint\u001b[39m(\u001b[39m\"\u001b[39m\u001b[39m----------------------------------------------------------------------------------------\u001b[39m\u001b[39m\"\u001b[39m)\n",
      "\u001b[1;32m/Users/morp/Dropbox/UCONN/4_Senior_Year/Semester_1/CSE-4939W/HuskyFit-ML-Food-Recommendation/diningModel.ipynb Cell 7\u001b[0m in \u001b[0;36mgetRecs\u001b[0;34m(model, user_id, num_recs)\u001b[0m\n\u001b[1;32m      <a href='vscode-notebook-cell:/Users/morp/Dropbox/UCONN/4_Senior_Year/Semester_1/CSE-4939W/HuskyFit-ML-Food-Recommendation/diningModel.ipynb#X15sZmlsZQ%3D%3D?line=7'>8</a>\u001b[0m     val\u001b[39m.\u001b[39mappend(\u001b[39mint\u001b[39m(recommended_movies[i]))\n\u001b[1;32m     <a href='vscode-notebook-cell:/Users/morp/Dropbox/UCONN/4_Senior_Year/Semester_1/CSE-4939W/HuskyFit-ML-Food-Recommendation/diningModel.ipynb#X15sZmlsZQ%3D%3D?line=9'>10</a>\u001b[0m \u001b[39mfor\u001b[39;00m \u001b[39mid\u001b[39m \u001b[39min\u001b[39;00m val:\n\u001b[0;32m---> <a href='vscode-notebook-cell:/Users/morp/Dropbox/UCONN/4_Senior_Year/Semester_1/CSE-4939W/HuskyFit-ML-Food-Recommendation/diningModel.ipynb#X15sZmlsZQ%3D%3D?line=10'>11</a>\u001b[0m     row \u001b[39m=\u001b[39m diningHalls\u001b[39m.\u001b[39mloc[diningHalls[\u001b[39m'\u001b[39;49m\u001b[39mmovieId\u001b[39;49m\u001b[39m'\u001b[39;49m] \u001b[39m==\u001b[39m \u001b[39mid\u001b[39m]\n\u001b[1;32m     <a href='vscode-notebook-cell:/Users/morp/Dropbox/UCONN/4_Senior_Year/Semester_1/CSE-4939W/HuskyFit-ML-Food-Recommendation/diningModel.ipynb#X15sZmlsZQ%3D%3D?line=11'>12</a>\u001b[0m     \u001b[39m# print(type(row))\u001b[39;00m\n\u001b[1;32m     <a href='vscode-notebook-cell:/Users/morp/Dropbox/UCONN/4_Senior_Year/Semester_1/CSE-4939W/HuskyFit-ML-Food-Recommendation/diningModel.ipynb#X15sZmlsZQ%3D%3D?line=12'>13</a>\u001b[0m     movie \u001b[39m=\u001b[39m row\u001b[39m.\u001b[39mvalues\u001b[39m.\u001b[39mtolist()\n",
      "File \u001b[0;32m/nix/store/1w3cj75rg7f1cnia14shgyi8vz3qd5gm-python3-3.10.9-env/lib/python3.10/site-packages/pandas/core/frame.py:3805\u001b[0m, in \u001b[0;36mDataFrame.__getitem__\u001b[0;34m(self, key)\u001b[0m\n\u001b[1;32m   3803\u001b[0m \u001b[39mif\u001b[39;00m \u001b[39mself\u001b[39m\u001b[39m.\u001b[39mcolumns\u001b[39m.\u001b[39mnlevels \u001b[39m>\u001b[39m \u001b[39m1\u001b[39m:\n\u001b[1;32m   3804\u001b[0m     \u001b[39mreturn\u001b[39;00m \u001b[39mself\u001b[39m\u001b[39m.\u001b[39m_getitem_multilevel(key)\n\u001b[0;32m-> 3805\u001b[0m indexer \u001b[39m=\u001b[39m \u001b[39mself\u001b[39;49m\u001b[39m.\u001b[39;49mcolumns\u001b[39m.\u001b[39;49mget_loc(key)\n\u001b[1;32m   3806\u001b[0m \u001b[39mif\u001b[39;00m is_integer(indexer):\n\u001b[1;32m   3807\u001b[0m     indexer \u001b[39m=\u001b[39m [indexer]\n",
      "File \u001b[0;32m/nix/store/1w3cj75rg7f1cnia14shgyi8vz3qd5gm-python3-3.10.9-env/lib/python3.10/site-packages/pandas/core/indexes/base.py:3805\u001b[0m, in \u001b[0;36mIndex.get_loc\u001b[0;34m(self, key, method, tolerance)\u001b[0m\n\u001b[1;32m   3803\u001b[0m     \u001b[39mreturn\u001b[39;00m \u001b[39mself\u001b[39m\u001b[39m.\u001b[39m_engine\u001b[39m.\u001b[39mget_loc(casted_key)\n\u001b[1;32m   3804\u001b[0m \u001b[39mexcept\u001b[39;00m \u001b[39mKeyError\u001b[39;00m \u001b[39mas\u001b[39;00m err:\n\u001b[0;32m-> 3805\u001b[0m     \u001b[39mraise\u001b[39;00m \u001b[39mKeyError\u001b[39;00m(key) \u001b[39mfrom\u001b[39;00m \u001b[39merr\u001b[39;00m\n\u001b[1;32m   3806\u001b[0m \u001b[39mexcept\u001b[39;00m \u001b[39mTypeError\u001b[39;00m:\n\u001b[1;32m   3807\u001b[0m     \u001b[39m# If we have a listlike key, _check_indexing_error will raise\u001b[39;00m\n\u001b[1;32m   3808\u001b[0m     \u001b[39m#  InvalidIndexError. Otherwise we fall through and re-raise\u001b[39;00m\n\u001b[1;32m   3809\u001b[0m     \u001b[39m#  the TypeError.\u001b[39;00m\n\u001b[1;32m   3810\u001b[0m     \u001b[39mself\u001b[39m\u001b[39m.\u001b[39m_check_indexing_error(key)\n",
      "\u001b[0;31mKeyError\u001b[0m: 'movieId'"
     ]
    }
   ],
   "source": [
    "userID = 100\n",
    "print(\"Recommendations for User {}: \".format(userID))\n",
    "print()\n",
    "getRecs(model, userID, 5)\n",
    "print()\n",
    "print(\"----------------------------------------------------------------------------------------\")\n",
    "print()\n",
    "print(\"Movies that User {} has rated over 5.0:\".format(userID)) \n",
    "print()\n",
    "getUserInfo(userID)"
   ]
  }
 ],
 "metadata": {
  "kernelspec": {
   "display_name": "Python 3 (ipykernel)",
   "language": "python",
   "name": "python3"
  },
  "language_info": {
   "codemirror_mode": {
    "name": "ipython",
    "version": 3
   },
   "file_extension": ".py",
   "mimetype": "text/x-python",
   "name": "python",
   "nbconvert_exporter": "python",
   "pygments_lexer": "ipython3",
   "version": "3.9.12"
  }
 },
 "nbformat": 4,
 "nbformat_minor": 5
}
