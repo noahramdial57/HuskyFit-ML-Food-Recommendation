{
 "cells": [
  {
   "cell_type": "code",
   "execution_count": 1,
   "id": "fcd22558-a29d-4bdc-a5ac-f929726aa45b",
   "metadata": {
    "tags": []
   },
   "outputs": [],
   "source": [
    "import torch\n",
    "import torch.nn as nn\n",
    "import pandas as pd"
   ]
  },
  {
   "cell_type": "code",
   "execution_count": 6,
   "id": "b5ab1381-142d-482e-91fd-da3678015f54",
   "metadata": {
    "tags": []
   },
   "outputs": [],
   "source": [
    "# Define the model\n",
    "class MatrixFactorization(nn.Module):\n",
    "    def __init__(self, n_users, n_movies, n_factors=20):\n",
    "        super(MatrixFactorization, self).__init__()\n",
    "        self.user_factors = nn.Embedding(n_users, n_factors)\n",
    "        self.movie_factors = nn.Embedding(n_movies, n_factors)\n",
    "        # initializing our matrices with a positive number generally will yield better results\n",
    "        self.user_factors.weight.data.uniform_(0, 0.5)\n",
    "        self.movie_factors.weight.data.uniform_(0, 0.5)\n",
    "        \n",
    "    def forward(self, user, movie):\n",
    "        return (self.user_factors(user) * self.movie_factors(movie)).sum(1)"
   ]
  },
  {
   "cell_type": "code",
   "execution_count": 8,
   "id": "942dfcdc-acf7-4b43-bc45-6f0e887f2552",
   "metadata": {
    "tags": []
   },
   "outputs": [
    {
     "ename": "AttributeError",
     "evalue": "'DataFrame' object has no attribute 'movieId'",
     "output_type": "error",
     "traceback": [
      "\u001b[0;31m---------------------------------------------------------------------------\u001b[0m",
      "\u001b[0;31mAttributeError\u001b[0m                            Traceback (most recent call last)",
      "\u001b[1;32m/Users/morp/Dropbox/UCONN/4_Senior_Year/Semester_1/CSE-4939W/HuskyFit-ML-Food-Recommendation/diningModel.ipynb Cell 3\u001b[0m in \u001b[0;36m<cell line: 13>\u001b[0;34m()\u001b[0m\n\u001b[1;32m     <a href='vscode-notebook-cell:/Users/morp/Dropbox/UCONN/4_Senior_Year/Semester_1/CSE-4939W/HuskyFit-ML-Food-Recommendation/diningModel.ipynb#X11sZmlsZQ%3D%3D?line=9'>10</a>\u001b[0m user_map \u001b[39m=\u001b[39m {u: i \u001b[39mfor\u001b[39;00m i, u \u001b[39min\u001b[39;00m \u001b[39menumerate\u001b[39m(diningRates\u001b[39m.\u001b[39mfoodItem\u001b[39m.\u001b[39munique())}\n\u001b[1;32m     <a href='vscode-notebook-cell:/Users/morp/Dropbox/UCONN/4_Senior_Year/Semester_1/CSE-4939W/HuskyFit-ML-Food-Recommendation/diningModel.ipynb#X11sZmlsZQ%3D%3D?line=10'>11</a>\u001b[0m diningRates[\u001b[39m'\u001b[39m\u001b[39muser_id\u001b[39m\u001b[39m'\u001b[39m] \u001b[39m=\u001b[39m diningRates[\u001b[39m'\u001b[39m\u001b[39muserId\u001b[39m\u001b[39m'\u001b[39m]\u001b[39m.\u001b[39mmap(user_map)\n\u001b[0;32m---> <a href='vscode-notebook-cell:/Users/morp/Dropbox/UCONN/4_Senior_Year/Semester_1/CSE-4939W/HuskyFit-ML-Food-Recommendation/diningModel.ipynb#X11sZmlsZQ%3D%3D?line=12'>13</a>\u001b[0m movie_map \u001b[39m=\u001b[39m {m: i \u001b[39mfor\u001b[39;00m i, m \u001b[39min\u001b[39;00m \u001b[39menumerate\u001b[39m(diningRates\u001b[39m.\u001b[39;49mmovieId\u001b[39m.\u001b[39munique())}\n\u001b[1;32m     <a href='vscode-notebook-cell:/Users/morp/Dropbox/UCONN/4_Senior_Year/Semester_1/CSE-4939W/HuskyFit-ML-Food-Recommendation/diningModel.ipynb#X11sZmlsZQ%3D%3D?line=13'>14</a>\u001b[0m diningRates[\u001b[39m'\u001b[39m\u001b[39mfoodItem\u001b[39m\u001b[39m'\u001b[39m] \u001b[39m=\u001b[39m diningRates[\u001b[39m'\u001b[39m\u001b[39mfoodItem\u001b[39m\u001b[39m'\u001b[39m]\u001b[39m.\u001b[39mmap(movie_map)\n\u001b[1;32m     <a href='vscode-notebook-cell:/Users/morp/Dropbox/UCONN/4_Senior_Year/Semester_1/CSE-4939W/HuskyFit-ML-Food-Recommendation/diningModel.ipynb#X11sZmlsZQ%3D%3D?line=15'>16</a>\u001b[0m \u001b[39m# Create a matrix with users as rows and movies as columns\u001b[39;00m\n",
      "File \u001b[0;32m/nix/store/1w3cj75rg7f1cnia14shgyi8vz3qd5gm-python3-3.10.9-env/lib/python3.10/site-packages/pandas/core/generic.py:5902\u001b[0m, in \u001b[0;36mNDFrame.__getattr__\u001b[0;34m(self, name)\u001b[0m\n\u001b[1;32m   5895\u001b[0m \u001b[39mif\u001b[39;00m (\n\u001b[1;32m   5896\u001b[0m     name \u001b[39mnot\u001b[39;00m \u001b[39min\u001b[39;00m \u001b[39mself\u001b[39m\u001b[39m.\u001b[39m_internal_names_set\n\u001b[1;32m   5897\u001b[0m     \u001b[39mand\u001b[39;00m name \u001b[39mnot\u001b[39;00m \u001b[39min\u001b[39;00m \u001b[39mself\u001b[39m\u001b[39m.\u001b[39m_metadata\n\u001b[1;32m   5898\u001b[0m     \u001b[39mand\u001b[39;00m name \u001b[39mnot\u001b[39;00m \u001b[39min\u001b[39;00m \u001b[39mself\u001b[39m\u001b[39m.\u001b[39m_accessors\n\u001b[1;32m   5899\u001b[0m     \u001b[39mand\u001b[39;00m \u001b[39mself\u001b[39m\u001b[39m.\u001b[39m_info_axis\u001b[39m.\u001b[39m_can_hold_identifiers_and_holds_name(name)\n\u001b[1;32m   5900\u001b[0m ):\n\u001b[1;32m   5901\u001b[0m     \u001b[39mreturn\u001b[39;00m \u001b[39mself\u001b[39m[name]\n\u001b[0;32m-> 5902\u001b[0m \u001b[39mreturn\u001b[39;00m \u001b[39mobject\u001b[39;49m\u001b[39m.\u001b[39;49m\u001b[39m__getattribute__\u001b[39;49m(\u001b[39mself\u001b[39;49m, name)\n",
      "\u001b[0;31mAttributeError\u001b[0m: 'DataFrame' object has no attribute 'movieId'"
     ]
    }
   ],
   "source": [
    "# Load the MovieLens dataset\n",
    "diningHalls = pd.read_csv('./preprocessed-data/alldininghalls.csv')\n",
    "diningRates = pd.read_csv('./preprocessed-data/dining_ratings.csv')\n",
    "\n",
    "# Preprocess the data\n",
    "n_users = diningRates.userId.unique().shape[0]\n",
    "n_foodItems = diningRates.foodItem.unique().shape[0]\n",
    "\n",
    "# Convert movieId and userId into unique integers\n",
    "user_map = {u: i for i, u in enumerate(diningRates.foodItem.unique())}\n",
    "diningRates['user_id'] = diningRates['userId'].map(user_map)\n",
    "\n",
    "movie_map = {m: i for i, m in enumerate(diningRates.foodItem.unique())}\n",
    "diningRates['foodItem'] = diningRates['foodItem'].map(movie_map)\n",
    "\n",
    "# Create a matrix with users as rows and movies as columns\n",
    "matrix = torch.zeros((n_users, n_foodItems))\n",
    "for i, row in diningRates.iterrows():\n",
    "    matrix[int(row.user_id), int(row.foodItem)] = row.rating"
   ]
  },
  {
   "cell_type": "code",
   "execution_count": 5,
   "id": "3d1ef397-9f05-4d7c-91bd-a31478db9e2b",
   "metadata": {
    "tags": []
   },
   "outputs": [
    {
     "name": "stdout",
     "output_type": "stream",
     "text": [
      "tensor(6.2147, grad_fn=<MseLossBackward0>)\n"
     ]
    }
   ],
   "source": [
    "model = MatrixFactorization(n_users, n_movies)\n",
    "criterion = nn.MSELoss()\n",
    "optimizer = torch.optim.SGD(model.parameters(), lr=0.01)\n",
    "\n",
    "# Train the model\n",
    "for i in range(100):\n",
    "    optimizer.zero_grad()\n",
    "    user = torch.LongTensor(ratings.user_id)\n",
    "    movie = torch.LongTensor(ratings.movie_id)\n",
    "    rating = torch.FloatTensor(ratings.rating)\n",
    "    predictions = model(user, movie)\n",
    "    loss = criterion(predictions, rating)\n",
    "    loss.backward()\n",
    "    optimizer.step()\n",
    "    \n",
    "    if i % 10 == 0:\n",
    "        print(loss)\n"
   ]
  },
  {
   "cell_type": "code",
   "execution_count": 6,
   "id": "27760998-9972-4dd8-86a4-69f8f037cb5b",
   "metadata": {
    "tags": []
   },
   "outputs": [
    {
     "name": "stdout",
     "output_type": "stream",
     "text": [
      "3939    Clash of the Titans (1981)\n",
      "Name: title, dtype: object\n",
      "\n",
      "4197    Final Destination 2 (2003)\n",
      "Name: title, dtype: object\n",
      "\n",
      "504    Home Alone (1990)\n",
      "Name: title, dtype: object\n",
      "\n"
     ]
    }
   ],
   "source": [
    "# Make recommendations for a given user\n",
    "def recommend_movies(model, user_id, num_recommendations):\n",
    "    with torch.no_grad():\n",
    "        user = torch.LongTensor([user_map[user_id]])\n",
    "        movies = torch.arange(n_movies)\n",
    "        ratings = model(user, movies).detach().numpy()\n",
    "    movie_ids = ratings.argsort()[-num_recommendations:][::-1]\n",
    "    recommended_movies = [movies[i] for i in movie_ids]\n",
    "    return recommended_movies"
   ]
  },
  {
   "cell_type": "code",
   "execution_count": null,
   "id": "fe58284a-e169-4d94-9582-6ccf983d9690",
   "metadata": {},
   "outputs": [],
   "source": [
    "# Get recommendations for a user with user_id 1\n",
    "def getRecs(model, user_id, num_recs):\n",
    "    recommended_movies = recommend_movies(model, user_id, num_recs)\n",
    "\n",
    "    # Convert tensors to Int\n",
    "    val = []\n",
    "    for i in range(num_recs):\n",
    "        val.append(int(recommended_movies[i]))\n",
    "\n",
    "    for id in val:\n",
    "        row = movies.loc[movies['movieId'] == id]\n",
    "        # print(type(row))\n",
    "        movie = row.values.tolist()\n",
    "        if len(movie) == 0:\n",
    "            continue\n",
    "        print(movie)\n",
    "        \n",
    "def getUserInfo(user):\n",
    "    row = ratings.loc[ratings['userId'] == user]\n",
    "    x = row.loc[ratings['rating'] >= 5.0]\n",
    "    movieIDS = x['movieId'].values\n",
    "\n",
    "    for id in movieIDS:\n",
    "        movie = movies.loc[movies['movieId'] == id]\n",
    "        print(movie.values.tolist())\n",
    "        print()"
   ]
  },
  {
   "cell_type": "code",
   "execution_count": null,
   "id": "5fb722cb-e32d-49fb-bfc1-4ee9eda62804",
   "metadata": {},
   "outputs": [],
   "source": [
    "userID = 100\n",
    "print(\"Recommendations for User {}: \".format(userID))\n",
    "print()\n",
    "getRecs(model, userID, 5)\n",
    "print()\n",
    "print(\"----------------------------------------------------------------------------------------\")\n",
    "print()\n",
    "print(\"Movies that User {} has rated over 5.0:\".format(userID)) \n",
    "print()\n",
    "getUserInfo(userID)"
   ]
  }
 ],
 "metadata": {
  "kernelspec": {
   "display_name": "Python 3 (ipykernel)",
   "language": "python",
   "name": "python3"
  },
  "language_info": {
   "codemirror_mode": {
    "name": "ipython",
    "version": 3
   },
   "file_extension": ".py",
   "mimetype": "text/x-python",
   "name": "python",
   "nbconvert_exporter": "python",
   "pygments_lexer": "ipython3",
   "version": "3.10.9"
  }
 },
 "nbformat": 4,
 "nbformat_minor": 5
}
