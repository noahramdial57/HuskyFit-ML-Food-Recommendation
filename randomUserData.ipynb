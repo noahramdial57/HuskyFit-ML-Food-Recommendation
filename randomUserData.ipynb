{
 "cells": [
  {
   "cell_type": "code",
   "execution_count": 17,
   "id": "0a0eef0a-0946-4d06-beeb-775410227c77",
   "metadata": {
    "tags": []
   },
   "outputs": [],
   "source": [
    "import pandas as pd\n",
    "import random"
   ]
  },
  {
   "cell_type": "code",
   "execution_count": 18,
   "id": "fb921051-c8d1-43cf-93fa-248197eadc00",
   "metadata": {
    "tags": []
   },
   "outputs": [],
   "source": [
    "other = [\"UserID\", \"Weight (lbs)\", \"Height\"]\n",
    "allergens = ['Fish', 'Soybeans', 'Wheat', 'Gluten', 'Milk', 'Tree Nuts', 'Eggs', 'Sesame', 'Crustacean Shellfish']\n",
    "dietary_restrictions = ['Gluten Friendly', 'Less Sodium', 'Smart Check', 'Vegan', 'Vegetarian', 'Contains Nuts']\n",
    "dHalls = [\"gelfenbien\", \"kosher\", \"north\", \"northwest\", \"McMahon\", \"putnam\", \"south\", \"whitney\"]"
   ]
  },
  {
   "cell_type": "code",
   "execution_count": 21,
   "id": "a9eb5f02-9ec1-488b-8ed7-37891aafadd9",
   "metadata": {
    "tags": []
   },
   "outputs": [],
   "source": [
    "def generateRandomUserDataset():\n",
    "\n",
    "    L = other + allergens + dietary_restrictions + dHalls\n",
    "    matrix = pd.DataFrame(columns=L)\n",
    "    \n",
    "    num_users = 611\n",
    "\n",
    "    # For each user\n",
    "    for i in range(1, num_users):\n",
    "        row = []        \n",
    "        \n",
    "        weight = random.randint(80, 300)\n",
    "        feet = str(random.randint(4, 7))\n",
    "        inches = str(random.randint(0, 11))\n",
    "        height =  \"{}'{}\".format(feet, inches) \n",
    "        \n",
    "        row.append(i) # userid\n",
    "        row.append(weight) \n",
    "        row.append(height)\n",
    "\n",
    "        for allergen in allergens:\n",
    "            rand_num = random.randint(0, 1)\n",
    "            row.append(rand_num)\n",
    "\n",
    "        for diet_rest in dietary_restrictions:\n",
    "            rand_num = random.randint(0, 1)\n",
    "            row.append(rand_num)\n",
    "\n",
    "        # User only prefers one dining hall\n",
    "        rand_dHall = random.choice(dHalls)\n",
    "        for dHall in dHalls:\n",
    "            if dHall == rand_dHall:\n",
    "                row.append(1)\n",
    "            else:\n",
    "                row.append(0)\n",
    "\n",
    "        # Add each row to dataframe\n",
    "        item = pd.DataFrame([row], columns = L)\n",
    "        # print(row)\n",
    "        matrix = pd.concat([matrix, item])\n",
    "\n",
    "    return matrix"
   ]
  },
  {
   "cell_type": "code",
   "execution_count": 22,
   "id": "3be945f0-8514-4fec-bd23-f6fb87baa4ce",
   "metadata": {
    "tags": []
   },
   "outputs": [],
   "source": [
    "matrix = generateRandomUserDataset()\n",
    "# matrix\n",
    "dhs = \"randomUserDataset\"\n",
    "path = \"./preprocessed-data/{}.csv\".format(dhs)\n",
    "matrix.to_csv(path, encoding='utf-8', index=False)"
   ]
  },
  {
   "cell_type": "code",
   "execution_count": null,
   "id": "7ba0613d-e5db-4325-ad8a-d151f0339ed2",
   "metadata": {},
   "outputs": [],
   "source": []
  }
 ],
 "metadata": {
  "kernelspec": {
   "display_name": "Python 3 (ipykernel)",
   "language": "python",
   "name": "python3"
  },
  "language_info": {
   "codemirror_mode": {
    "name": "ipython",
    "version": 3
   },
   "file_extension": ".py",
   "mimetype": "text/x-python",
   "name": "python",
   "nbconvert_exporter": "python",
   "pygments_lexer": "ipython3",
   "version": "3.9.12"
  }
 },
 "nbformat": 4,
 "nbformat_minor": 5
}
