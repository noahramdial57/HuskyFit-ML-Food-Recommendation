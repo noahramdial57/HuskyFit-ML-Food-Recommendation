{
 "cells": [
  {
   "cell_type": "code",
   "execution_count": 1,
   "id": "4990e409-bebe-425e-a5c0-ea225bff778f",
   "metadata": {
    "tags": []
   },
   "outputs": [],
   "source": [
    "import botocore\n",
    "import boto3\n",
    "from botocore.exceptions import ClientError\n",
    "import botocore\n",
    "import json\n",
    "from ast import literal_eval\n",
    "import pandas as pd"
   ]
  },
  {
   "cell_type": "code",
   "execution_count": 14,
   "id": "09b9afa8-6978-4dd4-a474-b58323953061",
   "metadata": {
    "tags": []
   },
   "outputs": [],
   "source": [
    "bucket = \"foodrecdata\"\n",
    "key = 'normalizedValues.csv'\n",
    "\n",
    "s3 = boto3.client('s3')\n",
    "response = s3.get_object(Bucket=bucket, Key=key)\n",
    "df = pd.read_csv(response['Body'])"
   ]
  },
  {
   "cell_type": "code",
   "execution_count": 4,
   "id": "1ef445e8-d257-474a-9855-fe30ff6ec4ea",
   "metadata": {
    "tags": []
   },
   "outputs": [
    {
     "data": {
      "text/plain": [
       "{'Food Item': \"Lite 'n Crunchy Baked Fish\",\n",
       " 'Dining Hall': 'North',\n",
       " 'Meal': 'Lunch',\n",
       " 'Allergens': 'Eggs, Fish, Wheat, Soybeans',\n",
       " 'Dietary Restrictions': ['Less Sodium', 'Smart Check'],\n",
       " 'Date': '03/22/2023',\n",
       " 'Calories': '130',\n",
       " 'Serving Size': '1 EACH',\n",
       " 'Protein': '11g',\n",
       " 'Saturated Fat': '0g',\n",
       " 'Total Fat': '4g',\n",
       " 'Calcium': '0mg',\n",
       " 'Added Sugars': '0g',\n",
       " 'Dietary Fiber': '0g',\n",
       " 'Total Carbohydrates': '13g',\n",
       " 'Trans Fat': '0g',\n",
       " 'Sodium': '380.2mg',\n",
       " 'Potassium': 'mg',\n",
       " 'Total Sugars': '1g',\n",
       " 'Vitamin D': 'mcg',\n",
       " 'Cholesterol': '50mg',\n",
       " 'Iron': '0.7mg'}"
      ]
     },
     "execution_count": 4,
     "metadata": {},
     "output_type": "execute_result"
    }
   ],
   "source": [
    "s3 = boto3.client('s3')\n",
    "bucket = \"dininghall-data-cache\"\n",
    "key = \"North-Lunch-03-22-2023.json\"\n",
    "\n",
    "s3 = boto3.client('s3')\n",
    "response = s3.get_object(Bucket=bucket, Key=key)\n",
    "content = response['Body'].read()\n",
    "data = json.loads(content)\n",
    "data[0]\n",
    "\n"
   ]
  },
  {
   "cell_type": "code",
   "execution_count": 6,
   "id": "815a36a1-6f01-4137-a2d5-470624cef969",
   "metadata": {
    "tags": []
   },
   "outputs": [
    {
     "name": "stdout",
     "output_type": "stream",
     "text": [
      "True\n"
     ]
    }
   ],
   "source": [
    "print(data[0][\"Food Item\"] == \"Lite 'n Crunchy Baked Fish\")"
   ]
  },
  {
   "cell_type": "code",
   "execution_count": null,
   "id": "8c2c1ee1-29c7-4127-a867-e5e86559eb82",
   "metadata": {},
   "outputs": [],
   "source": []
  }
 ],
 "metadata": {
  "kernelspec": {
   "display_name": "Python 3 (ipykernel)",
   "language": "python",
   "name": "python3"
  },
  "language_info": {
   "codemirror_mode": {
    "name": "ipython",
    "version": 3
   },
   "file_extension": ".py",
   "mimetype": "text/x-python",
   "name": "python",
   "nbconvert_exporter": "python",
   "pygments_lexer": "ipython3",
   "version": "3.9.12"
  }
 },
 "nbformat": 4,
 "nbformat_minor": 5
}
