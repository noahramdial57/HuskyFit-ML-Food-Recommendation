{
 "cells": [
  {
   "cell_type": "code",
   "execution_count": 1,
   "id": "20db4836",
   "metadata": {
    "tags": []
   },
   "outputs": [],
   "source": [
    "dining_file = './preprocessed-data/alldininghalls.csv'\n",
    "ratings_file = './preprocessed-data/dining_ratings.csv'\n",
    "users_file = './preprocessed-data/randomUserDataset.csv'"
   ]
  },
  {
   "cell_type": "code",
   "execution_count": 2,
   "id": "daf2b1da",
   "metadata": {
    "tags": []
   },
   "outputs": [],
   "source": [
    "import pandas as pd\n",
    "import numpy as np\n",
    "import torch\n",
    "import torch.nn as nn"
   ]
  },
  {
   "cell_type": "code",
   "execution_count": 3,
   "id": "33b76430",
   "metadata": {
    "tags": []
   },
   "outputs": [],
   "source": [
    "df = pd.read_csv(dining_file)\n",
    "ratings = pd.read_csv(ratings_file)\n",
    "users = pd.read_csv(users_file)"
   ]
  },
  {
   "cell_type": "code",
   "execution_count": 4,
   "id": "b5425bac",
   "metadata": {
    "tags": []
   },
   "outputs": [],
   "source": [
    "# height ft-inch to inch\n",
    "users['Height'] = users['Height'].apply(lambda x:int(x.split('\\'')[0])*12+int(x.split('\\'')[1]))"
   ]
  },
  {
   "cell_type": "code",
   "execution_count": 5,
   "id": "4193486f",
   "metadata": {
    "tags": []
   },
   "outputs": [],
   "source": [
    "#### collaborative filtering\n",
    "## find similar users\n",
    "from sklearn.preprocessing import OneHotEncoder, StandardScaler\n",
    "from sklearn.metrics.pairwise import cosine_similarity\n",
    "\n",
    "# Function to find similar users\n",
    "def find_similar_users(new_user_df, users_df, k=25):    \n",
    "    # Compute cosine similarity between new user and existing users\n",
    "    new_user_df.drop(columns = ['UserID'])\n",
    "    users_df.drop(columns = ['UserID'])\n",
    "    similarities = cosine_similarity(new_user_df, users_df)[0]\n",
    "    \n",
    "    # Find the top-k similar users\n",
    "    top_k_similar_users_indices = similarities.argsort()[-k-1:-1][::-1]\n",
    "    top_k_similar_users = users.iloc[top_k_similar_users_indices]\n",
    "    \n",
    "    return top_k_similar_users\n",
    "\n",
    "# Normalize numerical features\n",
    "numerical_features = ['Weight (lbs)', 'Height']\n",
    "numerical_data = users[numerical_features]\n",
    "scaler = StandardScaler()\n",
    "numerical_data_scaled = scaler.fit_transform(numerical_data)\n",
    "users[numerical_features] = numerical_data_scaled\n",
    "\n",
    "# similar users in a dataframe\n",
    "one_user = users[:1].copy() ## new user data frame\n",
    "similar_users = find_similar_users(one_user, users) "
   ]
  },
  {
   "cell_type": "code",
   "execution_count": 6,
   "id": "527d6e30",
   "metadata": {
    "tags": []
   },
   "outputs": [],
   "source": [
    "avg_ratings_users = ratings.groupby(by = ['userId','foodItem']).agg({\n",
    "    'rating':np.mean\n",
    "}).reset_index()"
   ]
  },
  {
   "cell_type": "code",
   "execution_count": 7,
   "id": "765a4aa4",
   "metadata": {
    "tags": []
   },
   "outputs": [],
   "source": [
    "ratings_similar_users = ratings[ratings['userId'].isin(similar_users['UserID'].tolist())].copy()\n",
    "avg_ratings_similar_users = ratings_similar_users.groupby(by = ['userId','foodItem']).agg({\n",
    "    'rating':np.mean\n",
    "}).reset_index()"
   ]
  },
  {
   "cell_type": "code",
   "execution_count": 8,
   "id": "c0efb25e",
   "metadata": {
    "tags": []
   },
   "outputs": [],
   "source": [
    "# Define the model\n",
    "class MatrixFactorization(nn.Module):\n",
    "    def __init__(self, n_users, n_movies, n_factors=20):\n",
    "        super(MatrixFactorization, self).__init__()\n",
    "        self.user_factors = nn.Embedding(n_users, n_factors)\n",
    "        self.movie_factors = nn.Embedding(n_movies, n_factors)\n",
    "        # initializing our matrices with a positive number generally will yield better results\n",
    "        self.user_factors.weight.data.uniform_(0, 0.5)\n",
    "        self.movie_factors.weight.data.uniform_(0, 0.5)\n",
    "        \n",
    "    def forward(self, user, movie):\n",
    "        return (self.user_factors(user) * self.movie_factors(movie)).sum(1)"
   ]
  },
  {
   "cell_type": "code",
   "execution_count": 9,
   "id": "a0561ad2",
   "metadata": {
    "tags": []
   },
   "outputs": [],
   "source": [
    "# Load the MovieLens dataset\n",
    "diningHalls = df.copy()\n",
    "diningRates = ratings.copy()\n",
    "\n",
    "# Preprocess the data\n",
    "n_users = diningRates.userId.unique().shape[0]\n",
    "n_foodItems = diningRates.foodItem.unique().shape[0]\n",
    "\n",
    "# Convert movieId and userId into unique integers\n",
    "user_map = {u: i for i, u in enumerate(diningRates.userId.unique())}\n",
    "diningRates['user_id'] = diningRates['userId'].map(user_map)\n",
    "\n",
    "dining_map = {m: i for i, m in enumerate(diningRates.foodItem.unique())}\n",
    "diningRates['food_item'] = diningRates['foodItem'].map(dining_map)\n",
    "\n",
    "# Create a matrix with users as rows and movies as columns\n",
    "matrix = torch.zeros((n_users, n_foodItems))\n",
    "for i, row in diningRates.iterrows():\n",
    "    matrix[int(row.user_id), int(row.food_item)] = row.rating"
   ]
  },
  {
   "cell_type": "code",
   "execution_count": 10,
   "id": "9cbfd6ee",
   "metadata": {
    "tags": []
   },
   "outputs": [
    {
     "name": "stdout",
     "output_type": "stream",
     "text": [
      "tensor(6.1985, grad_fn=<MseLossBackward0>)\n",
      "tensor(6.1837, grad_fn=<MseLossBackward0>)\n",
      "tensor(6.1689, grad_fn=<MseLossBackward0>)\n",
      "tensor(6.1542, grad_fn=<MseLossBackward0>)\n",
      "tensor(6.1396, grad_fn=<MseLossBackward0>)\n"
     ]
    }
   ],
   "source": [
    "model = MatrixFactorization(n_users, n_foodItems)\n",
    "criterion = nn.MSELoss()\n",
    "optimizer = torch.optim.SGD(model.parameters(), lr=0.01)\n",
    "\n",
    "# Train the model\n",
    "for i in range(50):\n",
    "    optimizer.zero_grad()\n",
    "    user = torch.LongTensor(diningRates.user_id)\n",
    "    movie = torch.LongTensor(diningRates.food_item)\n",
    "    rating = torch.FloatTensor(diningRates.rating)\n",
    "    predictions = model(user, movie)\n",
    "    loss = criterion(predictions, rating)\n",
    "    loss.backward()\n",
    "    optimizer.step()\n",
    "    \n",
    "    if i % 10 == 0:\n",
    "        print(loss)"
   ]
  },
  {
   "cell_type": "code",
   "execution_count": 11,
   "id": "11c5f66f",
   "metadata": {
    "tags": []
   },
   "outputs": [],
   "source": [
    "# Make recommendations for a given user\n",
    "def recommend_food(model, user_id, num_recommendations):\n",
    "    with torch.no_grad():\n",
    "        user = torch.LongTensor([user_map[user_id]])\n",
    "        movies = torch.arange(n_foodItems)\n",
    "        ratings = model(user, movies).detach().numpy()\n",
    "    movie_ids = ratings.argsort()[-num_recommendations:][::-1]\n",
    "    recommended_movies = [movies[i] for i in movie_ids]\n",
    "    return recommended_movies"
   ]
  },
  {
   "cell_type": "code",
   "execution_count": 12,
   "id": "1b5c87eb",
   "metadata": {
    "tags": []
   },
   "outputs": [],
   "source": [
    "# Get recommendations for a user with user_id 1\n",
    "def getRecs(model, user_id, num_recs):\n",
    "    recommended_movies = recommend_food(model, user_id, num_recs)\n",
    "\n",
    "    # Convert tensors to Int\n",
    "    val = []\n",
    "    for i in range(num_recs):\n",
    "        val.append(int(recommended_movies[i]))\n",
    "\n",
    "    for id in val:\n",
    "        row = diningHalls.loc[diningHalls['foodId'] == id]\n",
    "        movie = row.values.tolist()\n",
    "        if len(movie) == 0:\n",
    "            continue\n",
    "    return val\n",
    "        \n",
    "def getUserInfo(user):\n",
    "    row = diningRates.loc[diningRates['userId'] == user]\n",
    "    x = row.loc[diningRates['rating'] >= 5.0]\n",
    "    foodIDS = x['foodItem'].values\n",
    "\n",
    "    for id in foodIDS:\n",
    "        movie = diningHalls.loc[diningHalls['foodId'] == id]\n",
    "        a = movie.values.tolist()\n",
    "        try:\n",
    "            print(a[0][1])\n",
    "        except:\n",
    "            pass"
   ]
  },
  {
   "cell_type": "code",
   "execution_count": 13,
   "id": "052ff550",
   "metadata": {
    "tags": []
   },
   "outputs": [],
   "source": [
    "# recommendation for that particular user:\n",
    "\n",
    "def getSimilarUserRecs(model, userID, num_recs = 5):\n",
    "    recs = []\n",
    "    recs += getRecs(model, userID, 5)\n",
    "    # recommendation for similar users:\n",
    "    for user in similar_users['UserID'].tolist():\n",
    "        recs += getRecs(model, user, 1)\n",
    "    recs = set(recs)\n",
    "    food_recs = df[df['foodId'].isin(recs)]\n",
    "        \n",
    "    return food_recs"
   ]
  },
  {
   "cell_type": "code",
   "execution_count": 113,
   "id": "5981262b",
   "metadata": {
    "tags": []
   },
   "outputs": [],
   "source": [
    "# Now do content filtering\n",
    "# Filter out according to dining hall pref, allergens, and diet restr\n",
    "\n",
    "meals = ['Breakfast', 'Lunch', 'Dinner']\n",
    "allergens = ['Fish', 'Soybeans', 'Wheat', 'Gluten', 'Milk', 'Tree Nuts', 'Eggs', 'Sesame', 'Crustacean Shellfish']\n",
    "dietary_restrictions = ['Gluten Friendly', 'Less Sodium', 'Smart Check', 'Vegan', 'Vegetarian', 'Contains Nuts']\n",
    "dHalls = [\"gelfenbien\", \"kosher\", \"north\", \"northwest\", \"McMahon\", \"putnam\", \"south\", \"whitney\"]\n",
    "\n",
    "\n",
    "def contentFiltering(df, dHall_pref, allergens, diet_restr, meal):     \n",
    "        \n",
    "    # filter by meal\n",
    "    recs = df.loc[(df[meal] == 1)] # works\n",
    "    recs = recs.drop_duplicates(subset=\"Food Item\") # remove duplicates\n",
    "        \n",
    "    # filter by dining \n",
    "    if len(dHall_pref) == 0:\n",
    "        pass\n",
    "    else:\n",
    "        for index, row in recs.iterrows():\n",
    "            L = []\n",
    "            actual_index = row[\"foodId\"]\n",
    "            for pref in dHall_pref:  \n",
    "\n",
    "                if row[pref] == 0: L.append(0)\n",
    "                else: L.append(1)\n",
    "\n",
    "            all_zeros = all(val == 0 for val in L)\n",
    "            if all_zeros == True: \n",
    "                recs = recs.drop(actual_index)\n",
    "            \n",
    "    # filter by allergens \n",
    "    if len(allergens) == 0:\n",
    "        pass\n",
    "    else:\n",
    "        for index, row in recs.iterrows():\n",
    "            L = []\n",
    "            actual_index = row[\"foodId\"]\n",
    "            for allergen in allergens:  \n",
    "\n",
    "                if row[allergen] == 1: L.append(1)\n",
    "                else: L.append(0)\n",
    "\n",
    "            all_zeros = all(val == 0 for val in L)\n",
    "            # If there is an allergen present, a 1 in the list, drop it\n",
    "            if all_zeros == False: \n",
    "                recs = recs.drop(actual_index)\n",
    "\n",
    "    \n",
    "    if len(diet_restr) == 0:\n",
    "        pass\n",
    "    else:\n",
    "        for index, row in recs.iterrows():\n",
    "            L = []\n",
    "            actual_index = row[\"foodId\"]\n",
    "            for restr in diet_restr:  \n",
    "\n",
    "                if row[restr] == 0: L.append(0)\n",
    "                else: L.append(1)\n",
    "\n",
    "            all_zeros = all(val == 0 for val in L)\n",
    "            # If there is an allergen present, a 1 in the list, drop it\n",
    "            if all_zeros == True: \n",
    "                recs = recs.drop(actual_index)\n",
    "                     \n",
    "    return recs"
   ]
  },
  {
   "cell_type": "code",
   "execution_count": 119,
   "id": "91ca0bc8",
   "metadata": {
    "tags": []
   },
   "outputs": [
    {
     "data": {
      "text/html": [
       "<div>\n",
       "<style scoped>\n",
       "    .dataframe tbody tr th:only-of-type {\n",
       "        vertical-align: middle;\n",
       "    }\n",
       "\n",
       "    .dataframe tbody tr th {\n",
       "        vertical-align: top;\n",
       "    }\n",
       "\n",
       "    .dataframe thead th {\n",
       "        text-align: right;\n",
       "    }\n",
       "</style>\n",
       "<table border=\"1\" class=\"dataframe\">\n",
       "  <thead>\n",
       "    <tr style=\"text-align: right;\">\n",
       "      <th></th>\n",
       "      <th>foodId</th>\n",
       "      <th>Food Item</th>\n",
       "      <th>Breakfast</th>\n",
       "      <th>Lunch</th>\n",
       "      <th>Dinner</th>\n",
       "      <th>Fish</th>\n",
       "      <th>Soybeans</th>\n",
       "      <th>Wheat</th>\n",
       "      <th>Gluten</th>\n",
       "      <th>Milk</th>\n",
       "      <th>...</th>\n",
       "      <th>Vegetarian</th>\n",
       "      <th>Contains Nuts</th>\n",
       "      <th>gelfenbien</th>\n",
       "      <th>kosher</th>\n",
       "      <th>north</th>\n",
       "      <th>northwest</th>\n",
       "      <th>McMahon</th>\n",
       "      <th>putnam</th>\n",
       "      <th>south</th>\n",
       "      <th>whitney</th>\n",
       "    </tr>\n",
       "  </thead>\n",
       "  <tbody>\n",
       "    <tr>\n",
       "      <th>342</th>\n",
       "      <td>342</td>\n",
       "      <td>Sweet Potato Gratin</td>\n",
       "      <td>0</td>\n",
       "      <td>0</td>\n",
       "      <td>1</td>\n",
       "      <td>0</td>\n",
       "      <td>0</td>\n",
       "      <td>0</td>\n",
       "      <td>0</td>\n",
       "      <td>1</td>\n",
       "      <td>...</td>\n",
       "      <td>1</td>\n",
       "      <td>0</td>\n",
       "      <td>1</td>\n",
       "      <td>0</td>\n",
       "      <td>0</td>\n",
       "      <td>0</td>\n",
       "      <td>0</td>\n",
       "      <td>0</td>\n",
       "      <td>0</td>\n",
       "      <td>0</td>\n",
       "    </tr>\n",
       "    <tr>\n",
       "      <th>3270</th>\n",
       "      <td>3270</td>\n",
       "      <td>Cheese Pizza</td>\n",
       "      <td>0</td>\n",
       "      <td>0</td>\n",
       "      <td>1</td>\n",
       "      <td>0</td>\n",
       "      <td>0</td>\n",
       "      <td>1</td>\n",
       "      <td>0</td>\n",
       "      <td>1</td>\n",
       "      <td>...</td>\n",
       "      <td>1</td>\n",
       "      <td>0</td>\n",
       "      <td>0</td>\n",
       "      <td>0</td>\n",
       "      <td>1</td>\n",
       "      <td>0</td>\n",
       "      <td>0</td>\n",
       "      <td>0</td>\n",
       "      <td>0</td>\n",
       "      <td>0</td>\n",
       "    </tr>\n",
       "    <tr>\n",
       "      <th>3396</th>\n",
       "      <td>3396</td>\n",
       "      <td>Grilled Cheese</td>\n",
       "      <td>0</td>\n",
       "      <td>0</td>\n",
       "      <td>1</td>\n",
       "      <td>0</td>\n",
       "      <td>1</td>\n",
       "      <td>1</td>\n",
       "      <td>0</td>\n",
       "      <td>1</td>\n",
       "      <td>...</td>\n",
       "      <td>1</td>\n",
       "      <td>0</td>\n",
       "      <td>0</td>\n",
       "      <td>0</td>\n",
       "      <td>1</td>\n",
       "      <td>0</td>\n",
       "      <td>0</td>\n",
       "      <td>0</td>\n",
       "      <td>0</td>\n",
       "      <td>0</td>\n",
       "    </tr>\n",
       "    <tr>\n",
       "      <th>5819</th>\n",
       "      <td>5819</td>\n",
       "      <td>Sticky Rice</td>\n",
       "      <td>0</td>\n",
       "      <td>0</td>\n",
       "      <td>1</td>\n",
       "      <td>0</td>\n",
       "      <td>0</td>\n",
       "      <td>0</td>\n",
       "      <td>0</td>\n",
       "      <td>0</td>\n",
       "      <td>...</td>\n",
       "      <td>1</td>\n",
       "      <td>0</td>\n",
       "      <td>0</td>\n",
       "      <td>0</td>\n",
       "      <td>0</td>\n",
       "      <td>0</td>\n",
       "      <td>0</td>\n",
       "      <td>1</td>\n",
       "      <td>0</td>\n",
       "      <td>0</td>\n",
       "    </tr>\n",
       "  </tbody>\n",
       "</table>\n",
       "<p>4 rows × 28 columns</p>\n",
       "</div>"
      ],
      "text/plain": [
       "      foodId            Food Item  Breakfast  Lunch  Dinner  Fish  Soybeans  \\\n",
       "342      342  Sweet Potato Gratin          0      0       1     0         0   \n",
       "3270    3270         Cheese Pizza          0      0       1     0         0   \n",
       "3396    3396       Grilled Cheese          0      0       1     0         1   \n",
       "5819    5819          Sticky Rice          0      0       1     0         0   \n",
       "\n",
       "      Wheat  Gluten  Milk  ...  Vegetarian  Contains Nuts  gelfenbien  kosher  \\\n",
       "342       0       0     1  ...           1              0           1       0   \n",
       "3270      1       0     1  ...           1              0           0       0   \n",
       "3396      1       0     1  ...           1              0           0       0   \n",
       "5819      0       0     0  ...           1              0           0       0   \n",
       "\n",
       "      north  northwest  McMahon  putnam  south  whitney  \n",
       "342       0          0        0       0      0        0  \n",
       "3270      1          0        0       0      0        0  \n",
       "3396      1          0        0       0      0        0  \n",
       "5819      0          0        0       1      0        0  \n",
       "\n",
       "[4 rows x 28 columns]"
      ]
     },
     "metadata": {},
     "output_type": "display_data"
    }
   ],
   "source": [
    "# meals = ['Breakfast', 'Lunch', 'Dinner']\n",
    "# allergens = ['Fish', 'Soybeans', 'Wheat', 'Gluten', 'Milk', 'Tree Nuts', 'Eggs', 'Sesame', 'Crustacean Shellfish']\n",
    "# dietary_restrictions = ['Gluten Friendly', 'Less Sodium', 'Smart Check', 'Vegan', 'Vegetarian', 'Contains Nuts']\n",
    "# dHalls = [\"gelfenbien\", \"kosher\", \"north\", \"northwest\", \"McMahon\", \"putnam\", \"south\", \"whitney\"]\n",
    "\n",
    "df = getSimilarUserRecs(model, 500) # dataframe\n",
    "dHallPref = []\n",
    "allergens = []\n",
    "dietary_restrictions = [\"Vegetarian\"]\n",
    "meal = \"Dinner\"\n",
    "\n",
    "recs = contentFiltering(df, dHallPref, allergens, dietary_restrictions, meal)\n",
    "display(recs)"
   ]
  },
  {
   "cell_type": "code",
   "execution_count": null,
   "id": "bf8c009f-99b1-4085-a9ae-1848d14bf659",
   "metadata": {},
   "outputs": [],
   "source": []
  },
  {
   "cell_type": "code",
   "execution_count": null,
   "id": "443fcbcc-9b79-4d4c-b5b6-3220e158c402",
   "metadata": {},
   "outputs": [],
   "source": []
  }
 ],
 "metadata": {
  "kernelspec": {
   "display_name": "Python 3 (ipykernel)",
   "language": "python",
   "name": "python3"
  },
  "language_info": {
   "codemirror_mode": {
    "name": "ipython",
    "version": 3
   },
   "file_extension": ".py",
   "mimetype": "text/x-python",
   "name": "python",
   "nbconvert_exporter": "python",
   "pygments_lexer": "ipython3",
   "version": "3.9.12"
  }
 },
 "nbformat": 4,
 "nbformat_minor": 5
}
