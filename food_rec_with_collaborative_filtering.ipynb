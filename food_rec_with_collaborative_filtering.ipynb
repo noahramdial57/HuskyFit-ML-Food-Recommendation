{
 "cells": [
  {
   "cell_type": "code",
   "execution_count": 1,
   "id": "20db4836",
   "metadata": {
    "tags": []
   },
   "outputs": [],
   "source": [
    "dining_file = './preprocessed-data/alldininghalls.csv'\n",
    "ratings_file = './preprocessed-data/dining_ratings.csv'\n",
    "# users_file = './preprocessed-data/randomUserDataset.csv'\n",
    "users_file = './preprocessed-data/normalizedValues.csv'\n",
    "nut_facts_file = './preprocessed-data/allNutritionalInfo.csv'"
   ]
  },
  {
   "cell_type": "code",
   "execution_count": 2,
   "id": "daf2b1da",
   "metadata": {
    "tags": []
   },
   "outputs": [],
   "source": [
    "import pandas as pd\n",
    "import numpy as np\n",
    "import torch\n",
    "import torch.nn as nn\n",
    "import botocore\n",
    "import boto3\n",
    "from botocore.exceptions import ClientError\n",
    "import botocore\n",
    "import json\n",
    "from datetime import date"
   ]
  },
  {
   "cell_type": "code",
   "execution_count": 3,
   "id": "33b76430",
   "metadata": {
    "tags": []
   },
   "outputs": [],
   "source": [
    "df = pd.read_csv(dining_file)\n",
    "diningRates = pd.read_csv(ratings_file)\n",
    "users = pd.read_csv(users_file)\n",
    "nut_file = pd.read_csv(nut_facts_file)"
   ]
  },
  {
   "cell_type": "code",
   "execution_count": 4,
   "id": "3c9adf74-e2df-4f50-894d-48ab452d9926",
   "metadata": {
    "tags": []
   },
   "outputs": [],
   "source": [
    "# avg_ratings_users = ratings.groupby(by = ['userId','foodItem']).agg({\n",
    "#     'rating':np.mean\n",
    "# }).reset_index()\n",
    "\n",
    "# ratings_similar_users = ratings[ratings['userId'].isin(similar_users['UserID'].tolist())].copy()\n",
    "# avg_ratings_similar_users = ratings_similar_users.groupby(by = ['userId','foodItem']).agg({\n",
    "#     'rating':np.mean\n",
    "# }).reset_index()"
   ]
  },
  {
   "cell_type": "code",
   "execution_count": 15,
   "id": "4193486f",
   "metadata": {
    "tags": []
   },
   "outputs": [],
   "source": [
    "#### collaborative filtering\n",
    "## find similar users\n",
    "from sklearn.preprocessing import OneHotEncoder, StandardScaler\n",
    "from sklearn.metrics.pairwise import cosine_similarity\n",
    "\n",
    "# Function to find similar users\n",
    "def find_similar_users(userID, k=25):    \n",
    "    \n",
    "    users_df = users.copy()\n",
    "    # one_user = users[:1].copy() # new user data frame\n",
    "    new_user_df = users.iloc[userID].to_frame().T # how to access a specific row\n",
    "    \n",
    "    # Compute cosine similarity between new user and existing users\n",
    "    new_user_df.drop(columns = ['UserID'])\n",
    "    users_df.drop(columns = ['UserID'])\n",
    "    similarities = cosine_similarity(new_user_df, users_df)[0]\n",
    "    \n",
    "    # Find the top-k similar users\n",
    "    top_k_similar_users_indices = similarities.argsort()[-k-1:-1][::-1]\n",
    "    top_k_similar_users = users.iloc[top_k_similar_users_indices]\n",
    "    \n",
    "    return top_k_similar_users\n",
    "\n",
    "# similar_users = find_similar_users(1) # pass in userID to get similar users\n",
    "# display(similar_users)"
   ]
  },
  {
   "cell_type": "code",
   "execution_count": 6,
   "id": "c0efb25e",
   "metadata": {
    "tags": []
   },
   "outputs": [],
   "source": [
    "# Define the model\n",
    "class MatrixFactorization(nn.Module):\n",
    "    def __init__(self, n_users, n_food_items, n_factors=20):\n",
    "        super(MatrixFactorization, self).__init__()\n",
    "        self.user_factors = nn.Embedding(n_users, n_factors)\n",
    "        self.movie_factors = nn.Embedding(n_food_items, n_factors)\n",
    "        # initializing our matrices with a positive number generally will yield better results\n",
    "        self.user_factors.weight.data.uniform_(0, 0.5)\n",
    "        self.movie_factors.weight.data.uniform_(0, 0.5)\n",
    "        \n",
    "    def forward(self, user, food_item):\n",
    "        return (self.user_factors(user) * self.movie_factors(food_item)).sum(1)"
   ]
  },
  {
   "cell_type": "code",
   "execution_count": 7,
   "id": "a0561ad2",
   "metadata": {
    "tags": []
   },
   "outputs": [
    {
     "name": "stdout",
     "output_type": "stream",
     "text": [
      "610\n"
     ]
    }
   ],
   "source": [
    "# Load the MovieLens dataset\n",
    "diningHalls = df.copy()\n",
    "# diningRates = ratings.copy()\n",
    "\n",
    "# Preprocess the data\n",
    "n_users = diningRates.userId.unique().shape[0]\n",
    "print(n_users)\n",
    "n_foodItems = diningRates.foodItem.unique().shape[0]\n",
    "\n",
    "# Convert movieId and userId into unique integers\n",
    "user_map = {u: i for i, u in enumerate(diningRates.userId.unique())}\n",
    "diningRates['user_id'] = diningRates['userId'].map(user_map)\n",
    "\n",
    "dining_map = {m: i for i, m in enumerate(diningRates.foodItem.unique())}\n",
    "diningRates['food_item'] = diningRates['foodItem'].map(dining_map)\n",
    "\n",
    "# Create a matrix with users as rows and movies as columns\n",
    "# matrix = torch.zeros((n_users, n_foodItems))\n",
    "# for i, row in diningRates.iterrows():\n",
    "#     matrix[int(row.user_id), int(row.food_item)] = row.rating"
   ]
  },
  {
   "cell_type": "code",
   "execution_count": 8,
   "id": "9cbfd6ee",
   "metadata": {
    "tags": []
   },
   "outputs": [
    {
     "name": "stdout",
     "output_type": "stream",
     "text": [
      "tensor(6.2165, grad_fn=<MseLossBackward0>)\n",
      "tensor(6.2016, grad_fn=<MseLossBackward0>)\n",
      "tensor(6.1866, grad_fn=<MseLossBackward0>)\n",
      "tensor(6.1718, grad_fn=<MseLossBackward0>)\n",
      "tensor(6.1571, grad_fn=<MseLossBackward0>)\n"
     ]
    }
   ],
   "source": [
    "model = MatrixFactorization(n_users, n_foodItems)\n",
    "criterion = nn.MSELoss()\n",
    "optimizer = torch.optim.SGD(model.parameters(), lr=0.01)\n",
    "\n",
    "# Train the model\n",
    "for i in range(50):\n",
    "    optimizer.zero_grad()\n",
    "    user = torch.LongTensor(diningRates.user_id)\n",
    "    movie = torch.LongTensor(diningRates.food_item)\n",
    "    rating = torch.FloatTensor(diningRates.rating)\n",
    "    predictions = model(user, movie)\n",
    "    loss = criterion(predictions, rating)\n",
    "    loss.backward()\n",
    "    optimizer.step()\n",
    "    \n",
    "    if i % 10 == 0:\n",
    "        print(loss)"
   ]
  },
  {
   "cell_type": "code",
   "execution_count": 26,
   "id": "11c5f66f",
   "metadata": {
    "tags": []
   },
   "outputs": [],
   "source": [
    "# Make recommendations for a given user\n",
    "def recommend_food(model, user_id, num_recommendations):\n",
    "    with torch.no_grad():\n",
    "        user = torch.LongTensor([user_map[user_id]])\n",
    "        food_items = torch.arange(n_foodItems)\n",
    "        ratings = model(user, food_items).detach().numpy()\n",
    "    food_ids = ratings.argsort()[-num_recommendations:][::-1]\n",
    "    recommended_food = [food_items[i] for i in food_ids]\n",
    "    return recommended_food"
   ]
  },
  {
   "cell_type": "code",
   "execution_count": 10,
   "id": "1b5c87eb",
   "metadata": {
    "tags": []
   },
   "outputs": [],
   "source": [
    "# Get recommendations for a user\n",
    "def getRecs(model, user_id, num_recs):\n",
    "    recommended_food = recommend_food(model, user_id, num_recs)\n",
    "\n",
    "    # Convert tensors to Int\n",
    "    val = []\n",
    "    for i in range(num_recs):\n",
    "        val.append(int(recommended_food[i]))\n",
    "\n",
    "    for id in val:\n",
    "        row = diningHalls.loc[diningHalls['foodId'] == id]\n",
    "        movie = row.values.tolist()\n",
    "        if len(movie) == 0:\n",
    "            continue\n",
    "    return val"
   ]
  },
  {
   "cell_type": "code",
   "execution_count": 19,
   "id": "052ff550",
   "metadata": {
    "tags": []
   },
   "outputs": [],
   "source": [
    "# recommendation for that particular user:\n",
    "\n",
    "def getSimilarUserRecs(model, userID, num_recs = 5):\n",
    "    recs = []\n",
    "    recs += getRecs(model, userID, num_recs)\n",
    "    # recommendation for similar users:\n",
    "    \n",
    "    similar_users = find_similar_users(userID) # added this\n",
    "    print(\"here\")\n",
    "    for user in similar_users['UserID'].tolist():\n",
    "        recs += getRecs(model, user, num_recs)\n",
    "    recs = set(recs)\n",
    "    food_recs = df[df['foodId'].isin(recs)]\n",
    "        \n",
    "    return food_recs"
   ]
  },
  {
   "cell_type": "code",
   "execution_count": 12,
   "id": "5981262b",
   "metadata": {
    "tags": []
   },
   "outputs": [],
   "source": [
    "# Now do content filtering\n",
    "\n",
    "def contentFiltering(df, dHall_pref, allergens, diet_restr, meal):     \n",
    "        \n",
    "    # filter by meal\n",
    "    recs = df.loc[(df[meal] == 1)] # works\n",
    "    recs = recs.drop_duplicates(subset=\"Food Item\") # remove duplicates\n",
    "        \n",
    "    # filter by dining \n",
    "    if len(dHall_pref) == 0:\n",
    "        pass\n",
    "    else:\n",
    "        for index, row in recs.iterrows():\n",
    "            L = []\n",
    "            actual_index = row[\"foodId\"]\n",
    "            for pref in dHall_pref:  \n",
    "\n",
    "                if row[pref] == 0: L.append(0)\n",
    "                else: L.append(1)\n",
    "\n",
    "            all_zeros = all(val == 0 for val in L)\n",
    "            if all_zeros == True: \n",
    "                recs = recs.drop(actual_index)\n",
    "            \n",
    "    # filter by allergens \n",
    "    if len(allergens) == 0:\n",
    "        pass\n",
    "    else:\n",
    "        for index, row in recs.iterrows():\n",
    "            L = []\n",
    "            actual_index = row[\"foodId\"]\n",
    "            for allergen in allergens:  \n",
    "\n",
    "                if row[allergen] == 1: L.append(1)\n",
    "                else: L.append(0)\n",
    "\n",
    "            all_zeros = all(val == 0 for val in L)\n",
    "            # If there is an allergen present, a 1 in the list, drop it\n",
    "            if all_zeros == False: \n",
    "                recs = recs.drop(actual_index)\n",
    "\n",
    "    # filter by dietary restrictions\n",
    "    if len(diet_restr) == 0:\n",
    "        pass\n",
    "    else:\n",
    "        for index, row in recs.iterrows():\n",
    "            L = []\n",
    "            actual_index = row[\"foodId\"]\n",
    "            for restr in diet_restr:  \n",
    "\n",
    "                if row[restr] == 0: L.append(0)\n",
    "                else: L.append(1)\n",
    "\n",
    "            all_zeros = all(val == 0 for val in L)\n",
    "            # If there is an allergen present, a 1 in the list, drop it\n",
    "            if all_zeros == True: \n",
    "                recs = recs.drop(actual_index)\n",
    "    \n",
    "  \n",
    "    df_input = [\"foodId\", \"Food Item\"]\n",
    "    for pref in dHallPref:\n",
    "        df_input.append(pref)\n",
    "\n",
    "    a = recs[df_input] # gets only necessary values\n",
    "    obj = a.to_dict(orient=\"records\") \n",
    "        \n",
    "    return obj"
   ]
  },
  {
   "cell_type": "code",
   "execution_count": 13,
   "id": "74d78597-cc8b-414b-965d-231bf1003f71",
   "metadata": {
    "tags": []
   },
   "outputs": [],
   "source": [
    "# Check to see if food is being served at specified Dining hall\n",
    "def checkDiningHall(recs, dHallPref, meal):\n",
    "    bucket = \"dininghall-data-cache\"\n",
    "\n",
    "    s3 = boto3.client('s3')\n",
    "    today = date.today()\n",
    "    dd = today.strftime(\"%d\")\n",
    "    mm = today.strftime(\"%m\")\n",
    "    yyyy = today.strftime(\"%Y\")\n",
    "     \n",
    "    L = []\n",
    "    # Check to see if user has a preference\n",
    "    if len(dHallPref) > 0:\n",
    "        \n",
    "        # For each recommended item\n",
    "        for item in recs:\n",
    "        \n",
    "            # Check all preferred dining halls to see if food item is being served\n",
    "            for pref in dHallPref:\n",
    "\n",
    "                # If a user has a preference, see if its currently being served at their preferred dining hall\n",
    "                if item[pref] == 1:\n",
    "                    dHall = item[pref]\n",
    "\n",
    "                    key = \"{}-{}-{}-{}-{}.json\".format(pref.capitalize(), meal, mm, dd, yyyy) # pref is the dining hall\n",
    "                    response = s3.get_object(Bucket=bucket, Key=key)\n",
    "                    content = response['Body'].read()\n",
    "                    data = json.loads(content)\n",
    "\n",
    "                    for food_item in data:\n",
    "                        if food_item[\"Food Item\"] == item[\"Food Item\"]:\n",
    "                            # print(\"IT ACTUALLY FUCKING WORKS!!!\")\n",
    "                            L.append(food_item)\n",
    "                            \n",
    "    else:\n",
    "        # User does not have a preference, recommend food from anywhere\n",
    "        dHalls = [\"gelfenbien\", \"kosher\", \"north\", \"northwest\", \"McMahon\", \"putnam\", \"south\", \"whitney\"]\n",
    "\n",
    "        for item in recs:\n",
    "            \n",
    "            # Check each dining hall to see if item is being served\n",
    "            for dining_hall in dHalls:\n",
    "\n",
    "                if dining_hall == \"McMahon\": continue\n",
    "                else: dining_hall = dining_hall.capitalize()\n",
    "\n",
    "\n",
    "                key = \"{}-{}-{}-{}-{}.json\".format(dining_hall, meal, mm, dd, yyyy) # pref is the dining hall\n",
    "                response = s3.get_object(Bucket=bucket, Key=key)\n",
    "                content = response['Body'].read()\n",
    "                data = json.loads(content)\n",
    "\n",
    "                for food_item in data:\n",
    "                    if food_item[\"Food Item\"] == item[\"Food Item\"]:\n",
    "                        # print(\"IT ACTUALLY FUCKING WORKS!!!\")\n",
    "                        L.append(food_item)          \n",
    "\n",
    "    return L                           "
   ]
  },
  {
   "cell_type": "code",
   "execution_count": 23,
   "id": "91ca0bc8",
   "metadata": {
    "tags": []
   },
   "outputs": [
    {
     "name": "stdout",
     "output_type": "stream",
     "text": [
      "tensor([610])\n"
     ]
    },
    {
     "ename": "IndexError",
     "evalue": "index out of range in self",
     "output_type": "error",
     "traceback": [
      "\u001b[1;31m---------------------------------------------------------------------------\u001b[0m",
      "\u001b[1;31mIndexError\u001b[0m                                Traceback (most recent call last)",
      "\u001b[1;32m~\\AppData\\Local\\Temp/ipykernel_10052/4158378397.py\u001b[0m in \u001b[0;36m<module>\u001b[1;34m\u001b[0m\n\u001b[0;32m      4\u001b[0m \u001b[1;31m# dHalls = [\"gelfenbien\", \"kosher\", \"north\", \"northwest\", \"McMahon\", \"putnam\", \"south\", \"whitney\"]\u001b[0m\u001b[1;33m\u001b[0m\u001b[1;33m\u001b[0m\u001b[0m\n\u001b[0;32m      5\u001b[0m \u001b[1;31m# user_map\u001b[0m\u001b[1;33m\u001b[0m\u001b[1;33m\u001b[0m\u001b[0m\n\u001b[1;32m----> 6\u001b[1;33m \u001b[0mdf\u001b[0m \u001b[1;33m=\u001b[0m \u001b[0mgetSimilarUserRecs\u001b[0m\u001b[1;33m(\u001b[0m\u001b[0mmodel\u001b[0m\u001b[1;33m,\u001b[0m \u001b[1;36m611\u001b[0m\u001b[1;33m,\u001b[0m \u001b[1;36m10\u001b[0m\u001b[1;33m)\u001b[0m \u001b[1;31m# dataframe\u001b[0m\u001b[1;33m\u001b[0m\u001b[1;33m\u001b[0m\u001b[0m\n\u001b[0m\u001b[0;32m      7\u001b[0m \u001b[1;31m# dHallPref = [\"south\", \"McMahon\"]\u001b[0m\u001b[1;33m\u001b[0m\u001b[1;33m\u001b[0m\u001b[0m\n\u001b[0;32m      8\u001b[0m \u001b[0mdHallPref\u001b[0m \u001b[1;33m=\u001b[0m \u001b[1;33m[\u001b[0m\u001b[1;33m]\u001b[0m\u001b[1;33m\u001b[0m\u001b[1;33m\u001b[0m\u001b[0m\n",
      "\u001b[1;32m~\\AppData\\Local\\Temp/ipykernel_10052/3611848950.py\u001b[0m in \u001b[0;36mgetSimilarUserRecs\u001b[1;34m(model, userID, num_recs)\u001b[0m\n\u001b[0;32m      3\u001b[0m \u001b[1;32mdef\u001b[0m \u001b[0mgetSimilarUserRecs\u001b[0m\u001b[1;33m(\u001b[0m\u001b[0mmodel\u001b[0m\u001b[1;33m,\u001b[0m \u001b[0muserID\u001b[0m\u001b[1;33m,\u001b[0m \u001b[0mnum_recs\u001b[0m \u001b[1;33m=\u001b[0m \u001b[1;36m5\u001b[0m\u001b[1;33m)\u001b[0m\u001b[1;33m:\u001b[0m\u001b[1;33m\u001b[0m\u001b[1;33m\u001b[0m\u001b[0m\n\u001b[0;32m      4\u001b[0m     \u001b[0mrecs\u001b[0m \u001b[1;33m=\u001b[0m \u001b[1;33m[\u001b[0m\u001b[1;33m]\u001b[0m\u001b[1;33m\u001b[0m\u001b[1;33m\u001b[0m\u001b[0m\n\u001b[1;32m----> 5\u001b[1;33m     \u001b[0mrecs\u001b[0m \u001b[1;33m+=\u001b[0m \u001b[0mgetRecs\u001b[0m\u001b[1;33m(\u001b[0m\u001b[0mmodel\u001b[0m\u001b[1;33m,\u001b[0m \u001b[0muserID\u001b[0m\u001b[1;33m,\u001b[0m \u001b[0mnum_recs\u001b[0m\u001b[1;33m)\u001b[0m\u001b[1;33m\u001b[0m\u001b[1;33m\u001b[0m\u001b[0m\n\u001b[0m\u001b[0;32m      6\u001b[0m     \u001b[1;31m# recommendation for similar users:\u001b[0m\u001b[1;33m\u001b[0m\u001b[1;33m\u001b[0m\u001b[0m\n\u001b[0;32m      7\u001b[0m \u001b[1;33m\u001b[0m\u001b[0m\n",
      "\u001b[1;32m~\\AppData\\Local\\Temp/ipykernel_10052/3214547896.py\u001b[0m in \u001b[0;36mgetRecs\u001b[1;34m(model, user_id, num_recs)\u001b[0m\n\u001b[0;32m      1\u001b[0m \u001b[1;31m# Get recommendations for a user with user_id 1\u001b[0m\u001b[1;33m\u001b[0m\u001b[1;33m\u001b[0m\u001b[0m\n\u001b[0;32m      2\u001b[0m \u001b[1;32mdef\u001b[0m \u001b[0mgetRecs\u001b[0m\u001b[1;33m(\u001b[0m\u001b[0mmodel\u001b[0m\u001b[1;33m,\u001b[0m \u001b[0muser_id\u001b[0m\u001b[1;33m,\u001b[0m \u001b[0mnum_recs\u001b[0m\u001b[1;33m)\u001b[0m\u001b[1;33m:\u001b[0m\u001b[1;33m\u001b[0m\u001b[1;33m\u001b[0m\u001b[0m\n\u001b[1;32m----> 3\u001b[1;33m     \u001b[0mrecommended_food\u001b[0m \u001b[1;33m=\u001b[0m \u001b[0mrecommend_food\u001b[0m\u001b[1;33m(\u001b[0m\u001b[0mmodel\u001b[0m\u001b[1;33m,\u001b[0m \u001b[0muser_id\u001b[0m\u001b[1;33m,\u001b[0m \u001b[0mnum_recs\u001b[0m\u001b[1;33m)\u001b[0m\u001b[1;33m\u001b[0m\u001b[1;33m\u001b[0m\u001b[0m\n\u001b[0m\u001b[0;32m      4\u001b[0m \u001b[1;33m\u001b[0m\u001b[0m\n\u001b[0;32m      5\u001b[0m     \u001b[1;31m# Convert tensors to Int\u001b[0m\u001b[1;33m\u001b[0m\u001b[1;33m\u001b[0m\u001b[0m\n",
      "\u001b[1;32m~\\AppData\\Local\\Temp/ipykernel_10052/1813848765.py\u001b[0m in \u001b[0;36mrecommend_food\u001b[1;34m(model, user_id, num_recommendations)\u001b[0m\n\u001b[0;32m      6\u001b[0m         \u001b[0mprint\u001b[0m\u001b[1;33m(\u001b[0m\u001b[0muser\u001b[0m\u001b[1;33m)\u001b[0m\u001b[1;33m\u001b[0m\u001b[1;33m\u001b[0m\u001b[0m\n\u001b[0;32m      7\u001b[0m         \u001b[0mfood_items\u001b[0m \u001b[1;33m=\u001b[0m \u001b[0mtorch\u001b[0m\u001b[1;33m.\u001b[0m\u001b[0marange\u001b[0m\u001b[1;33m(\u001b[0m\u001b[0mn_foodItems\u001b[0m\u001b[1;33m)\u001b[0m\u001b[1;33m\u001b[0m\u001b[1;33m\u001b[0m\u001b[0m\n\u001b[1;32m----> 8\u001b[1;33m         \u001b[0mratings\u001b[0m \u001b[1;33m=\u001b[0m \u001b[0mmodel\u001b[0m\u001b[1;33m(\u001b[0m\u001b[0muser\u001b[0m\u001b[1;33m,\u001b[0m \u001b[0mfood_items\u001b[0m\u001b[1;33m)\u001b[0m \u001b[1;31m# .detach().numpy()\u001b[0m\u001b[1;33m\u001b[0m\u001b[1;33m\u001b[0m\u001b[0m\n\u001b[0m\u001b[0;32m      9\u001b[0m     \u001b[0mfood_ids\u001b[0m \u001b[1;33m=\u001b[0m \u001b[0mratings\u001b[0m\u001b[1;33m.\u001b[0m\u001b[0margsort\u001b[0m\u001b[1;33m(\u001b[0m\u001b[1;33m)\u001b[0m\u001b[1;33m[\u001b[0m\u001b[1;33m-\u001b[0m\u001b[0mnum_recommendations\u001b[0m\u001b[1;33m:\u001b[0m\u001b[1;33m]\u001b[0m\u001b[1;33m[\u001b[0m\u001b[1;33m:\u001b[0m\u001b[1;33m:\u001b[0m\u001b[1;33m-\u001b[0m\u001b[1;36m1\u001b[0m\u001b[1;33m]\u001b[0m\u001b[1;33m\u001b[0m\u001b[1;33m\u001b[0m\u001b[0m\n\u001b[0;32m     10\u001b[0m     \u001b[0mrecommended_food\u001b[0m \u001b[1;33m=\u001b[0m \u001b[1;33m[\u001b[0m\u001b[0mfood_items\u001b[0m\u001b[1;33m[\u001b[0m\u001b[0mi\u001b[0m\u001b[1;33m]\u001b[0m \u001b[1;32mfor\u001b[0m \u001b[0mi\u001b[0m \u001b[1;32min\u001b[0m \u001b[0mfood_ids\u001b[0m\u001b[1;33m]\u001b[0m\u001b[1;33m\u001b[0m\u001b[1;33m\u001b[0m\u001b[0m\n",
      "\u001b[1;32m~\\AppData\\Local\\Programs\\Python\\Python39\\lib\\site-packages\\torch\\nn\\modules\\module.py\u001b[0m in \u001b[0;36m_call_impl\u001b[1;34m(self, *input, **kwargs)\u001b[0m\n\u001b[0;32m   1192\u001b[0m         if not (self._backward_hooks or self._forward_hooks or self._forward_pre_hooks or _global_backward_hooks\n\u001b[0;32m   1193\u001b[0m                 or _global_forward_hooks or _global_forward_pre_hooks):\n\u001b[1;32m-> 1194\u001b[1;33m             \u001b[1;32mreturn\u001b[0m \u001b[0mforward_call\u001b[0m\u001b[1;33m(\u001b[0m\u001b[1;33m*\u001b[0m\u001b[0minput\u001b[0m\u001b[1;33m,\u001b[0m \u001b[1;33m**\u001b[0m\u001b[0mkwargs\u001b[0m\u001b[1;33m)\u001b[0m\u001b[1;33m\u001b[0m\u001b[1;33m\u001b[0m\u001b[0m\n\u001b[0m\u001b[0;32m   1195\u001b[0m         \u001b[1;31m# Do not call functions when jit is used\u001b[0m\u001b[1;33m\u001b[0m\u001b[1;33m\u001b[0m\u001b[0m\n\u001b[0;32m   1196\u001b[0m         \u001b[0mfull_backward_hooks\u001b[0m\u001b[1;33m,\u001b[0m \u001b[0mnon_full_backward_hooks\u001b[0m \u001b[1;33m=\u001b[0m \u001b[1;33m[\u001b[0m\u001b[1;33m]\u001b[0m\u001b[1;33m,\u001b[0m \u001b[1;33m[\u001b[0m\u001b[1;33m]\u001b[0m\u001b[1;33m\u001b[0m\u001b[1;33m\u001b[0m\u001b[0m\n",
      "\u001b[1;32m~\\AppData\\Local\\Temp/ipykernel_10052/2683469817.py\u001b[0m in \u001b[0;36mforward\u001b[1;34m(self, user, food_item)\u001b[0m\n\u001b[0;32m     10\u001b[0m \u001b[1;33m\u001b[0m\u001b[0m\n\u001b[0;32m     11\u001b[0m     \u001b[1;32mdef\u001b[0m \u001b[0mforward\u001b[0m\u001b[1;33m(\u001b[0m\u001b[0mself\u001b[0m\u001b[1;33m,\u001b[0m \u001b[0muser\u001b[0m\u001b[1;33m,\u001b[0m \u001b[0mfood_item\u001b[0m\u001b[1;33m)\u001b[0m\u001b[1;33m:\u001b[0m\u001b[1;33m\u001b[0m\u001b[1;33m\u001b[0m\u001b[0m\n\u001b[1;32m---> 12\u001b[1;33m         \u001b[1;32mreturn\u001b[0m \u001b[1;33m(\u001b[0m\u001b[0mself\u001b[0m\u001b[1;33m.\u001b[0m\u001b[0muser_factors\u001b[0m\u001b[1;33m(\u001b[0m\u001b[0muser\u001b[0m\u001b[1;33m)\u001b[0m \u001b[1;33m*\u001b[0m \u001b[0mself\u001b[0m\u001b[1;33m.\u001b[0m\u001b[0mmovie_factors\u001b[0m\u001b[1;33m(\u001b[0m\u001b[0mfood_item\u001b[0m\u001b[1;33m)\u001b[0m\u001b[1;33m)\u001b[0m\u001b[1;33m.\u001b[0m\u001b[0msum\u001b[0m\u001b[1;33m(\u001b[0m\u001b[1;36m1\u001b[0m\u001b[1;33m)\u001b[0m\u001b[1;33m\u001b[0m\u001b[1;33m\u001b[0m\u001b[0m\n\u001b[0m",
      "\u001b[1;32m~\\AppData\\Local\\Programs\\Python\\Python39\\lib\\site-packages\\torch\\nn\\modules\\module.py\u001b[0m in \u001b[0;36m_call_impl\u001b[1;34m(self, *input, **kwargs)\u001b[0m\n\u001b[0;32m   1192\u001b[0m         if not (self._backward_hooks or self._forward_hooks or self._forward_pre_hooks or _global_backward_hooks\n\u001b[0;32m   1193\u001b[0m                 or _global_forward_hooks or _global_forward_pre_hooks):\n\u001b[1;32m-> 1194\u001b[1;33m             \u001b[1;32mreturn\u001b[0m \u001b[0mforward_call\u001b[0m\u001b[1;33m(\u001b[0m\u001b[1;33m*\u001b[0m\u001b[0minput\u001b[0m\u001b[1;33m,\u001b[0m \u001b[1;33m**\u001b[0m\u001b[0mkwargs\u001b[0m\u001b[1;33m)\u001b[0m\u001b[1;33m\u001b[0m\u001b[1;33m\u001b[0m\u001b[0m\n\u001b[0m\u001b[0;32m   1195\u001b[0m         \u001b[1;31m# Do not call functions when jit is used\u001b[0m\u001b[1;33m\u001b[0m\u001b[1;33m\u001b[0m\u001b[0m\n\u001b[0;32m   1196\u001b[0m         \u001b[0mfull_backward_hooks\u001b[0m\u001b[1;33m,\u001b[0m \u001b[0mnon_full_backward_hooks\u001b[0m \u001b[1;33m=\u001b[0m \u001b[1;33m[\u001b[0m\u001b[1;33m]\u001b[0m\u001b[1;33m,\u001b[0m \u001b[1;33m[\u001b[0m\u001b[1;33m]\u001b[0m\u001b[1;33m\u001b[0m\u001b[1;33m\u001b[0m\u001b[0m\n",
      "\u001b[1;32m~\\AppData\\Local\\Programs\\Python\\Python39\\lib\\site-packages\\torch\\nn\\modules\\sparse.py\u001b[0m in \u001b[0;36mforward\u001b[1;34m(self, input)\u001b[0m\n\u001b[0;32m    158\u001b[0m \u001b[1;33m\u001b[0m\u001b[0m\n\u001b[0;32m    159\u001b[0m     \u001b[1;32mdef\u001b[0m \u001b[0mforward\u001b[0m\u001b[1;33m(\u001b[0m\u001b[0mself\u001b[0m\u001b[1;33m,\u001b[0m \u001b[0minput\u001b[0m\u001b[1;33m:\u001b[0m \u001b[0mTensor\u001b[0m\u001b[1;33m)\u001b[0m \u001b[1;33m->\u001b[0m \u001b[0mTensor\u001b[0m\u001b[1;33m:\u001b[0m\u001b[1;33m\u001b[0m\u001b[1;33m\u001b[0m\u001b[0m\n\u001b[1;32m--> 160\u001b[1;33m         return F.embedding(\n\u001b[0m\u001b[0;32m    161\u001b[0m             \u001b[0minput\u001b[0m\u001b[1;33m,\u001b[0m \u001b[0mself\u001b[0m\u001b[1;33m.\u001b[0m\u001b[0mweight\u001b[0m\u001b[1;33m,\u001b[0m \u001b[0mself\u001b[0m\u001b[1;33m.\u001b[0m\u001b[0mpadding_idx\u001b[0m\u001b[1;33m,\u001b[0m \u001b[0mself\u001b[0m\u001b[1;33m.\u001b[0m\u001b[0mmax_norm\u001b[0m\u001b[1;33m,\u001b[0m\u001b[1;33m\u001b[0m\u001b[1;33m\u001b[0m\u001b[0m\n\u001b[0;32m    162\u001b[0m             self.norm_type, self.scale_grad_by_freq, self.sparse)\n",
      "\u001b[1;32m~\\AppData\\Local\\Programs\\Python\\Python39\\lib\\site-packages\\torch\\nn\\functional.py\u001b[0m in \u001b[0;36membedding\u001b[1;34m(input, weight, padding_idx, max_norm, norm_type, scale_grad_by_freq, sparse)\u001b[0m\n\u001b[0;32m   2208\u001b[0m         \u001b[1;31m# remove once script supports set_grad_enabled\u001b[0m\u001b[1;33m\u001b[0m\u001b[1;33m\u001b[0m\u001b[0m\n\u001b[0;32m   2209\u001b[0m         \u001b[0m_no_grad_embedding_renorm_\u001b[0m\u001b[1;33m(\u001b[0m\u001b[0mweight\u001b[0m\u001b[1;33m,\u001b[0m \u001b[0minput\u001b[0m\u001b[1;33m,\u001b[0m \u001b[0mmax_norm\u001b[0m\u001b[1;33m,\u001b[0m \u001b[0mnorm_type\u001b[0m\u001b[1;33m)\u001b[0m\u001b[1;33m\u001b[0m\u001b[1;33m\u001b[0m\u001b[0m\n\u001b[1;32m-> 2210\u001b[1;33m     \u001b[1;32mreturn\u001b[0m \u001b[0mtorch\u001b[0m\u001b[1;33m.\u001b[0m\u001b[0membedding\u001b[0m\u001b[1;33m(\u001b[0m\u001b[0mweight\u001b[0m\u001b[1;33m,\u001b[0m \u001b[0minput\u001b[0m\u001b[1;33m,\u001b[0m \u001b[0mpadding_idx\u001b[0m\u001b[1;33m,\u001b[0m \u001b[0mscale_grad_by_freq\u001b[0m\u001b[1;33m,\u001b[0m \u001b[0msparse\u001b[0m\u001b[1;33m)\u001b[0m\u001b[1;33m\u001b[0m\u001b[1;33m\u001b[0m\u001b[0m\n\u001b[0m\u001b[0;32m   2211\u001b[0m \u001b[1;33m\u001b[0m\u001b[0m\n\u001b[0;32m   2212\u001b[0m \u001b[1;33m\u001b[0m\u001b[0m\n",
      "\u001b[1;31mIndexError\u001b[0m: index out of range in self"
     ]
    }
   ],
   "source": [
    "# meals = ['Breakfast', 'Lunch', 'Dinner']\n",
    "# allergens = ['Fish', 'Soybeans', 'Wheat', 'Gluten', 'Milk', 'Tree Nuts', 'Eggs', 'Sesame', 'Crustacean Shellfish']\n",
    "# dietary_restrictions = ['Gluten Friendly', 'Less Sodium', 'Smart Check', 'Vegan', 'Vegetarian', 'Contains Nuts']\n",
    "# dHalls = [\"gelfenbien\", \"kosher\", \"north\", \"northwest\", \"McMahon\", \"putnam\", \"south\", \"whitney\"]\n",
    "# user_map\n",
    "df = getSimilarUserRecs(model, 611, 10) # dataframe\n",
    "# dHallPref = [\"south\", \"McMahon\"]\n",
    "dHallPref = []\n",
    "\n",
    "allergens = []\n",
    "dietary_restrictions = []\n",
    "meal = \"Lunch\"\n",
    "\n",
    "len(dHallPref)\n",
    "\n",
    "recs = contentFiltering(df, dHallPref, allergens, dietary_restrictions, meal) # [\"Food Item\"].tolist()\n",
    "check = checkDiningHall(recs, dHallPref, meal)\n",
    "check"
   ]
  },
  {
   "cell_type": "code",
   "execution_count": null,
   "id": "3c793d75-bd1a-4363-b518-cb9c2401c0c6",
   "metadata": {},
   "outputs": [],
   "source": []
  }
 ],
 "metadata": {
  "kernelspec": {
   "display_name": "Python 3 (ipykernel)",
   "language": "python",
   "name": "python3"
  },
  "language_info": {
   "codemirror_mode": {
    "name": "ipython",
    "version": 3
   },
   "file_extension": ".py",
   "mimetype": "text/x-python",
   "name": "python",
   "nbconvert_exporter": "python",
   "pygments_lexer": "ipython3",
   "version": "3.9.12"
  }
 },
 "nbformat": 4,
 "nbformat_minor": 5
}
