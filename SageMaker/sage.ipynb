{
 "cells": [
  {
   "cell_type": "code",
   "execution_count": 1,
   "id": "0e052830-a932-4043-acb0-971b8190ddbf",
   "metadata": {
    "tags": []
   },
   "outputs": [],
   "source": [
    "import os\n",
    "import json\n",
    "\n",
    "import sagemaker\n",
    "from sagemaker.pytorch import PyTorch\n",
    "from sagemaker import get_execution_role"
   ]
  },
  {
   "cell_type": "code",
   "execution_count": 2,
   "id": "a11b7e82-e148-4e70-b839-f586bc7d7808",
   "metadata": {
    "tags": []
   },
   "outputs": [],
   "source": [
    "# Initialze a SageMaker session\n",
    "sess = sagemaker.Session()\n",
    "\n",
    "# Grab IAM role associated with the notebook instance\n",
    "role = get_execution_role()\n",
    "\n",
    "output_path = \"s3://\" + sess.default_bucket() + \"/test2\""
   ]
  },
  {
   "cell_type": "code",
   "execution_count": 3,
   "id": "043200f9-b251-4269-b420-a0ebf08c4ee3",
   "metadata": {
    "tags": []
   },
   "outputs": [],
   "source": [
    "# Set instance_type to local to run the training script on the machine that runs this notebook\n",
    "\n",
    "instance_type = \"local\"\n",
    "\n",
    "estimator = PyTorch(\n",
    "    entry_point=\"train.py\",\n",
    "    source_dir=\"code\",  # directory of your training script\n",
    "    role=role,\n",
    "    framework_version=\"1.5.0\",\n",
    "    py_version=\"py3\",\n",
    "    instance_type=instance_type,\n",
    "    instance_count=1,\n",
    "    output_path=output_path,\n",
    "    hyperparameters={\"batch-size\": 64, \"epochs\": 10, \"learning-rate\": 1e-3},\n",
    ")"
   ]
  },
  {
   "cell_type": "code",
   "execution_count": 4,
   "id": "f92d56f2-9599-4780-8653-b8f023a0d91c",
   "metadata": {
    "tags": []
   },
   "outputs": [
    {
     "name": "stderr",
     "output_type": "stream",
     "text": [
      "INFO:sagemaker.image_uris:image_uri is not presented, retrieving image_uri based on instance_type, framework etc.\n",
      "INFO:sagemaker:Creating training-job with name: pytorch-training-2023-02-25-18-17-33-379\n",
      "INFO:sagemaker.local.local_session:Starting training job\n",
      "INFO:botocore.credentials:Found credentials from IAM Role: BaseNotebookInstanceEc2InstanceRole\n",
      "INFO:sagemaker.local.image:No AWS credentials found in session but credentials from EC2 Metadata Service are available.\n",
      "INFO:sagemaker.local.image:docker compose file: \n",
      "networks:\n",
      "  sagemaker-local:\n",
      "    name: sagemaker-local\n",
      "services:\n",
      "  algo-1-tc2h3:\n",
      "    command: train\n",
      "    container_name: ihf1td93ms-algo-1-tc2h3\n",
      "    environment:\n",
      "    - '[Masked]'\n",
      "    - '[Masked]'\n",
      "    image: 763104351884.dkr.ecr.us-east-1.amazonaws.com/pytorch-training:1.5.0-cpu-py3\n",
      "    networks:\n",
      "      sagemaker-local:\n",
      "        aliases:\n",
      "        - algo-1-tc2h3\n",
      "    stdin_open: true\n",
      "    tty: true\n",
      "    volumes:\n",
      "    - /tmp/tmpgzn1nlfz/algo-1-tc2h3/input:/opt/ml/input\n",
      "    - /tmp/tmpgzn1nlfz/algo-1-tc2h3/output/data:/opt/ml/output/data\n",
      "    - /tmp/tmpgzn1nlfz/algo-1-tc2h3/output:/opt/ml/output\n",
      "    - /tmp/tmpgzn1nlfz/model:/opt/ml/model\n",
      "    - /opt/ml/metadata:/opt/ml/metadata\n",
      "    - /home/ec2-user/SageMaker/ml-latest-small:/opt/ml/input/data/ratings\n",
      "    - /home/ec2-user/SageMaker/ml-latest-small:/opt/ml/input/data/movies\n",
      "version: '2.3'\n",
      "\n",
      "INFO:sagemaker.local.image:docker command: docker-compose -f /tmp/tmpgzn1nlfz/docker-compose.yaml up --build --abort-on-container-exit\n",
      "WARNING! Your password will be stored unencrypted in /home/ec2-user/.docker/config.json.\n",
      "Configure a credential helper to remove this warning. See\n",
      "https://docs.docker.com/engine/reference/commandline/login/#credentials-store\n",
      "\n",
      "INFO:sagemaker.local.image:docker command: docker pull 763104351884.dkr.ecr.us-east-1.amazonaws.com/pytorch-training:1.5.0-cpu-py3\n"
     ]
    },
    {
     "name": "stdout",
     "output_type": "stream",
     "text": [
      "Login Succeeded\n"
     ]
    },
    {
     "name": "stderr",
     "output_type": "stream",
     "text": [
      "INFO:sagemaker.local.image:image pulled: 763104351884.dkr.ecr.us-east-1.amazonaws.com/pytorch-training:1.5.0-cpu-py3\n"
     ]
    },
    {
     "name": "stdout",
     "output_type": "stream",
     "text": [
      "Creating ihf1td93ms-algo-1-tc2h3 ... \n",
      "Creating ihf1td93ms-algo-1-tc2h3 ... done\n",
      "Attaching to ihf1td93ms-algo-1-tc2h3\n",
      "\u001b[36mihf1td93ms-algo-1-tc2h3 |\u001b[0m 2023-02-25 18:19:03,739 sagemaker-training-toolkit INFO     Imported framework sagemaker_pytorch_container.training\n",
      "\u001b[36mihf1td93ms-algo-1-tc2h3 |\u001b[0m 2023-02-25 18:19:03,762 sagemaker-training-toolkit INFO     No GPUs detected (normal if no gpus installed)\n",
      "\u001b[36mihf1td93ms-algo-1-tc2h3 |\u001b[0m 2023-02-25 18:19:03,778 sagemaker_pytorch_container.training INFO     Block until all host DNS lookups succeed.\n",
      "\u001b[36mihf1td93ms-algo-1-tc2h3 |\u001b[0m 2023-02-25 18:19:03,793 sagemaker_pytorch_container.training INFO     Invoking user training script.\n",
      "\u001b[36mihf1td93ms-algo-1-tc2h3 |\u001b[0m 2023-02-25 18:19:04,018 sagemaker-training-toolkit INFO     No GPUs detected (normal if no gpus installed)\n",
      "\u001b[36mihf1td93ms-algo-1-tc2h3 |\u001b[0m 2023-02-25 18:19:04,032 sagemaker-training-toolkit INFO     No GPUs detected (normal if no gpus installed)\n",
      "\u001b[36mihf1td93ms-algo-1-tc2h3 |\u001b[0m 2023-02-25 18:19:04,046 sagemaker-training-toolkit INFO     No GPUs detected (normal if no gpus installed)\n",
      "\u001b[36mihf1td93ms-algo-1-tc2h3 |\u001b[0m 2023-02-25 18:19:04,058 sagemaker-training-toolkit INFO     Invoking user script\n",
      "\u001b[36mihf1td93ms-algo-1-tc2h3 |\u001b[0m \n",
      "\u001b[36mihf1td93ms-algo-1-tc2h3 |\u001b[0m Training Env:\n",
      "\u001b[36mihf1td93ms-algo-1-tc2h3 |\u001b[0m \n",
      "\u001b[36mihf1td93ms-algo-1-tc2h3 |\u001b[0m {\n",
      "\u001b[36mihf1td93ms-algo-1-tc2h3 |\u001b[0m     \"additional_framework_parameters\": {},\n",
      "\u001b[36mihf1td93ms-algo-1-tc2h3 |\u001b[0m     \"channel_input_dirs\": {\n",
      "\u001b[36mihf1td93ms-algo-1-tc2h3 |\u001b[0m         \"ratings\": \"/opt/ml/input/data/ratings\",\n",
      "\u001b[36mihf1td93ms-algo-1-tc2h3 |\u001b[0m         \"movies\": \"/opt/ml/input/data/movies\"\n",
      "\u001b[36mihf1td93ms-algo-1-tc2h3 |\u001b[0m     },\n",
      "\u001b[36mihf1td93ms-algo-1-tc2h3 |\u001b[0m     \"current_host\": \"algo-1-tc2h3\",\n",
      "\u001b[36mihf1td93ms-algo-1-tc2h3 |\u001b[0m     \"framework_module\": \"sagemaker_pytorch_container.training:main\",\n",
      "\u001b[36mihf1td93ms-algo-1-tc2h3 |\u001b[0m     \"hosts\": [\n",
      "\u001b[36mihf1td93ms-algo-1-tc2h3 |\u001b[0m         \"algo-1-tc2h3\"\n",
      "\u001b[36mihf1td93ms-algo-1-tc2h3 |\u001b[0m     ],\n",
      "\u001b[36mihf1td93ms-algo-1-tc2h3 |\u001b[0m     \"hyperparameters\": {\n",
      "\u001b[36mihf1td93ms-algo-1-tc2h3 |\u001b[0m         \"batch-size\": 64,\n",
      "\u001b[36mihf1td93ms-algo-1-tc2h3 |\u001b[0m         \"epochs\": 10,\n",
      "\u001b[36mihf1td93ms-algo-1-tc2h3 |\u001b[0m         \"learning-rate\": 0.001\n",
      "\u001b[36mihf1td93ms-algo-1-tc2h3 |\u001b[0m     },\n",
      "\u001b[36mihf1td93ms-algo-1-tc2h3 |\u001b[0m     \"input_config_dir\": \"/opt/ml/input/config\",\n",
      "\u001b[36mihf1td93ms-algo-1-tc2h3 |\u001b[0m     \"input_data_config\": {\n",
      "\u001b[36mihf1td93ms-algo-1-tc2h3 |\u001b[0m         \"ratings\": {\n",
      "\u001b[36mihf1td93ms-algo-1-tc2h3 |\u001b[0m             \"TrainingInputMode\": \"File\"\n",
      "\u001b[36mihf1td93ms-algo-1-tc2h3 |\u001b[0m         },\n",
      "\u001b[36mihf1td93ms-algo-1-tc2h3 |\u001b[0m         \"movies\": {\n",
      "\u001b[36mihf1td93ms-algo-1-tc2h3 |\u001b[0m             \"TrainingInputMode\": \"File\"\n",
      "\u001b[36mihf1td93ms-algo-1-tc2h3 |\u001b[0m         }\n",
      "\u001b[36mihf1td93ms-algo-1-tc2h3 |\u001b[0m     },\n",
      "\u001b[36mihf1td93ms-algo-1-tc2h3 |\u001b[0m     \"input_dir\": \"/opt/ml/input\",\n",
      "\u001b[36mihf1td93ms-algo-1-tc2h3 |\u001b[0m     \"is_master\": true,\n",
      "\u001b[36mihf1td93ms-algo-1-tc2h3 |\u001b[0m     \"job_name\": \"pytorch-training-2023-02-25-18-17-33-379\",\n",
      "\u001b[36mihf1td93ms-algo-1-tc2h3 |\u001b[0m     \"log_level\": 20,\n",
      "\u001b[36mihf1td93ms-algo-1-tc2h3 |\u001b[0m     \"master_hostname\": \"algo-1-tc2h3\",\n",
      "\u001b[36mihf1td93ms-algo-1-tc2h3 |\u001b[0m     \"model_dir\": \"/opt/ml/model\",\n",
      "\u001b[36mihf1td93ms-algo-1-tc2h3 |\u001b[0m     \"module_dir\": \"s3://sagemaker-us-east-1-472925017889/pytorch-training-2023-02-25-18-17-33-379/source/sourcedir.tar.gz\",\n",
      "\u001b[36mihf1td93ms-algo-1-tc2h3 |\u001b[0m     \"module_name\": \"train\",\n",
      "\u001b[36mihf1td93ms-algo-1-tc2h3 |\u001b[0m     \"network_interface_name\": \"eth0\",\n",
      "\u001b[36mihf1td93ms-algo-1-tc2h3 |\u001b[0m     \"num_cpus\": 2,\n",
      "\u001b[36mihf1td93ms-algo-1-tc2h3 |\u001b[0m     \"num_gpus\": 0,\n",
      "\u001b[36mihf1td93ms-algo-1-tc2h3 |\u001b[0m     \"output_data_dir\": \"/opt/ml/output/data\",\n",
      "\u001b[36mihf1td93ms-algo-1-tc2h3 |\u001b[0m     \"output_dir\": \"/opt/ml/output\",\n",
      "\u001b[36mihf1td93ms-algo-1-tc2h3 |\u001b[0m     \"output_intermediate_dir\": \"/opt/ml/output/intermediate\",\n",
      "\u001b[36mihf1td93ms-algo-1-tc2h3 |\u001b[0m     \"resource_config\": {\n",
      "\u001b[36mihf1td93ms-algo-1-tc2h3 |\u001b[0m         \"current_host\": \"algo-1-tc2h3\",\n",
      "\u001b[36mihf1td93ms-algo-1-tc2h3 |\u001b[0m         \"hosts\": [\n",
      "\u001b[36mihf1td93ms-algo-1-tc2h3 |\u001b[0m             \"algo-1-tc2h3\"\n",
      "\u001b[36mihf1td93ms-algo-1-tc2h3 |\u001b[0m         ]\n",
      "\u001b[36mihf1td93ms-algo-1-tc2h3 |\u001b[0m     },\n",
      "\u001b[36mihf1td93ms-algo-1-tc2h3 |\u001b[0m     \"user_entry_point\": \"train.py\"\n",
      "\u001b[36mihf1td93ms-algo-1-tc2h3 |\u001b[0m }\n",
      "\u001b[36mihf1td93ms-algo-1-tc2h3 |\u001b[0m \n",
      "\u001b[36mihf1td93ms-algo-1-tc2h3 |\u001b[0m Environment variables:\n",
      "\u001b[36mihf1td93ms-algo-1-tc2h3 |\u001b[0m \n",
      "\u001b[36mihf1td93ms-algo-1-tc2h3 |\u001b[0m SM_HOSTS=[\"algo-1-tc2h3\"]\n",
      "\u001b[36mihf1td93ms-algo-1-tc2h3 |\u001b[0m SM_NETWORK_INTERFACE_NAME=eth0\n",
      "\u001b[36mihf1td93ms-algo-1-tc2h3 |\u001b[0m SM_HPS={\"batch-size\":64,\"epochs\":10,\"learning-rate\":0.001}\n",
      "\u001b[36mihf1td93ms-algo-1-tc2h3 |\u001b[0m SM_USER_ENTRY_POINT=train.py\n",
      "\u001b[36mihf1td93ms-algo-1-tc2h3 |\u001b[0m SM_FRAMEWORK_PARAMS={}\n",
      "\u001b[36mihf1td93ms-algo-1-tc2h3 |\u001b[0m SM_RESOURCE_CONFIG={\"current_host\":\"algo-1-tc2h3\",\"hosts\":[\"algo-1-tc2h3\"]}\n",
      "\u001b[36mihf1td93ms-algo-1-tc2h3 |\u001b[0m SM_INPUT_DATA_CONFIG={\"movies\":{\"TrainingInputMode\":\"File\"},\"ratings\":{\"TrainingInputMode\":\"File\"}}\n",
      "\u001b[36mihf1td93ms-algo-1-tc2h3 |\u001b[0m SM_OUTPUT_DATA_DIR=/opt/ml/output/data\n",
      "\u001b[36mihf1td93ms-algo-1-tc2h3 |\u001b[0m SM_CHANNELS=[\"movies\",\"ratings\"]\n",
      "\u001b[36mihf1td93ms-algo-1-tc2h3 |\u001b[0m SM_CURRENT_HOST=algo-1-tc2h3\n",
      "\u001b[36mihf1td93ms-algo-1-tc2h3 |\u001b[0m SM_MODULE_NAME=train\n",
      "\u001b[36mihf1td93ms-algo-1-tc2h3 |\u001b[0m SM_LOG_LEVEL=20\n",
      "\u001b[36mihf1td93ms-algo-1-tc2h3 |\u001b[0m SM_FRAMEWORK_MODULE=sagemaker_pytorch_container.training:main\n",
      "\u001b[36mihf1td93ms-algo-1-tc2h3 |\u001b[0m SM_INPUT_DIR=/opt/ml/input\n",
      "\u001b[36mihf1td93ms-algo-1-tc2h3 |\u001b[0m SM_INPUT_CONFIG_DIR=/opt/ml/input/config\n",
      "\u001b[36mihf1td93ms-algo-1-tc2h3 |\u001b[0m SM_OUTPUT_DIR=/opt/ml/output\n",
      "\u001b[36mihf1td93ms-algo-1-tc2h3 |\u001b[0m SM_NUM_CPUS=2\n",
      "\u001b[36mihf1td93ms-algo-1-tc2h3 |\u001b[0m SM_NUM_GPUS=0\n",
      "\u001b[36mihf1td93ms-algo-1-tc2h3 |\u001b[0m SM_MODEL_DIR=/opt/ml/model\n",
      "\u001b[36mihf1td93ms-algo-1-tc2h3 |\u001b[0m SM_MODULE_DIR=s3://sagemaker-us-east-1-472925017889/pytorch-training-2023-02-25-18-17-33-379/source/sourcedir.tar.gz\n",
      "\u001b[36mihf1td93ms-algo-1-tc2h3 |\u001b[0m SM_TRAINING_ENV={\"additional_framework_parameters\":{},\"channel_input_dirs\":{\"movies\":\"/opt/ml/input/data/movies\",\"ratings\":\"/opt/ml/input/data/ratings\"},\"current_host\":\"algo-1-tc2h3\",\"framework_module\":\"sagemaker_pytorch_container.training:main\",\"hosts\":[\"algo-1-tc2h3\"],\"hyperparameters\":{\"batch-size\":64,\"epochs\":10,\"learning-rate\":0.001},\"input_config_dir\":\"/opt/ml/input/config\",\"input_data_config\":{\"movies\":{\"TrainingInputMode\":\"File\"},\"ratings\":{\"TrainingInputMode\":\"File\"}},\"input_dir\":\"/opt/ml/input\",\"is_master\":true,\"job_name\":\"pytorch-training-2023-02-25-18-17-33-379\",\"log_level\":20,\"master_hostname\":\"algo-1-tc2h3\",\"model_dir\":\"/opt/ml/model\",\"module_dir\":\"s3://sagemaker-us-east-1-472925017889/pytorch-training-2023-02-25-18-17-33-379/source/sourcedir.tar.gz\",\"module_name\":\"train\",\"network_interface_name\":\"eth0\",\"num_cpus\":2,\"num_gpus\":0,\"output_data_dir\":\"/opt/ml/output/data\",\"output_dir\":\"/opt/ml/output\",\"output_intermediate_dir\":\"/opt/ml/output/intermediate\",\"resource_config\":{\"current_host\":\"algo-1-tc2h3\",\"hosts\":[\"algo-1-tc2h3\"]},\"user_entry_point\":\"train.py\"}\n",
      "\u001b[36mihf1td93ms-algo-1-tc2h3 |\u001b[0m SM_USER_ARGS=[\"--batch-size\",\"64\",\"--epochs\",\"10\",\"--learning-rate\",\"0.001\"]\n",
      "\u001b[36mihf1td93ms-algo-1-tc2h3 |\u001b[0m SM_OUTPUT_INTERMEDIATE_DIR=/opt/ml/output/intermediate\n",
      "\u001b[36mihf1td93ms-algo-1-tc2h3 |\u001b[0m SM_CHANNEL_RATINGS=/opt/ml/input/data/ratings\n",
      "\u001b[36mihf1td93ms-algo-1-tc2h3 |\u001b[0m SM_CHANNEL_MOVIES=/opt/ml/input/data/movies\n",
      "\u001b[36mihf1td93ms-algo-1-tc2h3 |\u001b[0m SM_HP_BATCH-SIZE=64\n",
      "\u001b[36mihf1td93ms-algo-1-tc2h3 |\u001b[0m SM_HP_EPOCHS=10\n",
      "\u001b[36mihf1td93ms-algo-1-tc2h3 |\u001b[0m SM_HP_LEARNING-RATE=0.001\n",
      "\u001b[36mihf1td93ms-algo-1-tc2h3 |\u001b[0m PYTHONPATH=/opt/ml/code:/opt/conda/bin:/opt/conda/lib/python36.zip:/opt/conda/lib/python3.6:/opt/conda/lib/python3.6/lib-dynload:/opt/conda/lib/python3.6/site-packages\n",
      "\u001b[36mihf1td93ms-algo-1-tc2h3 |\u001b[0m \n",
      "\u001b[36mihf1td93ms-algo-1-tc2h3 |\u001b[0m Invoking script with the following command:\n",
      "\u001b[36mihf1td93ms-algo-1-tc2h3 |\u001b[0m \n",
      "\u001b[36mihf1td93ms-algo-1-tc2h3 |\u001b[0m /opt/conda/bin/python3.6 train.py --batch-size 64 --epochs 10 --learning-rate 0.001\n",
      "\u001b[36mihf1td93ms-algo-1-tc2h3 |\u001b[0m \n",
      "\u001b[36mihf1td93ms-algo-1-tc2h3 |\u001b[0m \n",
      "\u001b[36mihf1td93ms-algo-1-tc2h3 |\u001b[0m here\n",
      "\u001b[36mihf1td93ms-algo-1-tc2h3 |\u001b[0m /opt/ml/input/data/movies\n",
      "\u001b[36mihf1td93ms-algo-1-tc2h3 |\u001b[0m ['ratings.csv', 'movies.csv']\n",
      "\u001b[36mihf1td93ms-algo-1-tc2h3 |\u001b[0m \n",
      "\u001b[36mihf1td93ms-algo-1-tc2h3 |\u001b[0m test loss 6.091 \n",
      "\u001b[36mihf1td93ms-algo-1-tc2h3 |\u001b[0m Saving the model\n",
      "\u001b[36mihf1td93ms-algo-1-tc2h3 |\u001b[0m \n",
      "\u001b[36mihf1td93ms-algo-1-tc2h3 |\u001b[0m 2023-02-25 18:19:25,414 sagemaker-training-toolkit INFO     Reporting training SUCCESS\n",
      "\u001b[36mihf1td93ms-algo-1-tc2h3 exited with code 0\n",
      "\u001b[0mAborting on container exit...\n"
     ]
    },
    {
     "name": "stderr",
     "output_type": "stream",
     "text": [
      "INFO:root:creating /tmp/tmpgzn1nlfz/artifacts/output/data\n",
      "INFO:root:copying /tmp/tmpgzn1nlfz/algo-1-tc2h3/output/success -> /tmp/tmpgzn1nlfz/artifacts/output\n",
      "INFO:root:copying /tmp/tmpgzn1nlfz/model/model.pth -> /tmp/tmpgzn1nlfz/artifacts/model\n"
     ]
    },
    {
     "name": "stdout",
     "output_type": "stream",
     "text": [
      "===== Job Complete =====\n"
     ]
    }
   ],
   "source": [
    "# Train the Model\n",
    "ratings = \"file://ml-latest-small/ratings.csv\"\n",
    "movies  = \"file://ml-latest-small/movies.csv\"\n",
    "\n",
    "channels = {\"ratings\": ratings, \"movies\": movies}\n",
    "estimator.fit(inputs=channels)"
   ]
  },
  {
   "cell_type": "code",
   "execution_count": 6,
   "id": "06406d2d-e747-4a40-9bf4-c33ca8df9869",
   "metadata": {
    "tags": []
   },
   "outputs": [
    {
     "name": "stdout",
     "output_type": "stream",
     "text": [
      "Model artifact saved at:\n",
      " s3://sagemaker-us-east-1-472925017889/test2/pytorch-training-2023-02-25-18-17-33-379/model.tar.gz\n",
      "Stored 'dummyModel_data' (str)\n"
     ]
    }
   ],
   "source": [
    "dummyModel_data = estimator.model_data\n",
    "print(\"Model artifact saved at:\\n\", dummyModel_data)\n",
    "%store dummyModel_data"
   ]
  },
  {
   "cell_type": "code",
   "execution_count": null,
   "id": "7ed824ff-868f-48ee-8552-f70bce1f4e11",
   "metadata": {},
   "outputs": [],
   "source": []
  }
 ],
 "metadata": {
  "kernelspec": {
   "display_name": "conda_pytorch_p39",
   "language": "python",
   "name": "conda_pytorch_p39"
  },
  "language_info": {
   "codemirror_mode": {
    "name": "ipython",
    "version": 3
   },
   "file_extension": ".py",
   "mimetype": "text/x-python",
   "name": "python",
   "nbconvert_exporter": "python",
   "pygments_lexer": "ipython3",
   "version": "3.9.15"
  }
 },
 "nbformat": 4,
 "nbformat_minor": 5
}
