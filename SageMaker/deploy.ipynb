{
 "cells": [
  {
   "cell_type": "code",
   "execution_count": 1,
   "id": "e51c252f-8f5d-4255-9c1e-a098c6cf7a6d",
   "metadata": {
    "tags": []
   },
   "outputs": [],
   "source": [
    "import os\n",
    "import json\n",
    "import boto3\n",
    "import sagemaker\n",
    "from sagemaker.pytorch import PyTorchModel\n",
    "from sagemaker import get_execution_role, Session\n",
    "import pandas as pd"
   ]
  },
  {
   "cell_type": "code",
   "execution_count": 2,
   "id": "41681a3d-f2b4-4d36-b5ca-6deb0b995122",
   "metadata": {
    "tags": []
   },
   "outputs": [
    {
     "name": "stdout",
     "output_type": "stream",
     "text": [
      "no stored variable or alias dummyModel_data\n",
      "s3://sagemaker-us-east-1-472925017889/model/pytorch/model.tar.gz\n"
     ]
    }
   ],
   "source": [
    "sess = Session()\n",
    "\n",
    "role = get_execution_role()\n",
    "\n",
    "%store -r dummyModel_data\n",
    "\n",
    "# Load in trained model from s3 bucket\n",
    "try:\n",
    "    dummyModel_data # loads in model from kernel\n",
    "    \n",
    "except NameError:\n",
    "    import json\n",
    "\n",
    "    # copy a pretrained model from our S3 bucket\n",
    "    s3 = boto3.client(\"s3\")\n",
    "    bucket = sess.default_bucket()\n",
    "    key = \"actualModel/pytorch-training-2023-03-23-00-43-56-842/model.tar.gz\"\n",
    "    s3.download_file(bucket, key, \"model.tar.gz\")\n",
    "\n",
    "    # upload to default bucket\n",
    "    dummyModel_data = sess.upload_data(\n",
    "        path=\"model.tar.gz\", bucket=sess.default_bucket(), key_prefix=\"model/pytorch\"\n",
    "    )\n",
    "    \n",
    "print(dummyModel_data)"
   ]
  },
  {
   "cell_type": "code",
   "execution_count": 25,
   "id": "840c8848-6045-4675-bb66-ddb002dd843b",
   "metadata": {
    "tags": []
   },
   "outputs": [],
   "source": [
    "model = PyTorchModel(\n",
    "    entry_point=\"inference.py\",\n",
    "    source_dir=\"code\",\n",
    "    role=role,\n",
    "    model_data=dummyModel_data,\n",
    "    framework_version=\"1.5.0\",\n",
    "    py_version=\"py3\",\n",
    ")"
   ]
  },
  {
   "cell_type": "code",
   "execution_count": null,
   "id": "8c0da6ff-005e-49e5-8c49-e4208123b5a4",
   "metadata": {
    "tags": []
   },
   "outputs": [
    {
     "name": "stdout",
     "output_type": "stream",
     "text": [
      "--------"
     ]
    }
   ],
   "source": [
    "from sagemaker.serializers import JSONSerializer\n",
    "from sagemaker.deserializers import JSONDeserializer\n",
    "\n",
    "# Deploy the model\n",
    "# set local_mode to False if you want to deploy on a remote\n",
    "\n",
    "local_mode = False\n",
    "\n",
    "if local_mode:\n",
    "    instance_type = \"local\"\n",
    "else:\n",
    "    instance_type = \"ml.m4.xlarge\"\n",
    "    \n",
    "predictor = model.deploy(\n",
    "    initial_instance_count=1,\n",
    "    instance_type=instance_type,\n",
    "    serializer=JSONSerializer(),\n",
    "    deserializer=JSONDeserializer()\n",
    ")\n",
    "\n",
    "print()\n",
    "print(predictor)"
   ]
  },
  {
   "cell_type": "code",
   "execution_count": null,
   "id": "bee6bdf4-f650-4353-8322-15bc82690377",
   "metadata": {
    "tags": []
   },
   "outputs": [],
   "source": [
    "dummy_data = {\"UserID\": \"5\", \"Dining Hall Preference\": [\"north\", \"northwest\"], \"Allergens\": [], \"Dietary Restrictions\": [], \"Meal\": \"Dinner\"}\n",
    "res = predictor.predict({\"inputs\" : dummy_data})\n",
    "print(res)"
   ]
  },
  {
   "cell_type": "code",
   "execution_count": 24,
   "id": "e8a9d4b2-f438-4526-b683-47882d0467d2",
   "metadata": {
    "tags": []
   },
   "outputs": [],
   "source": [
    "# DELETING THE ENDPOINT\n",
    "\n",
    "if not local_mode:\n",
    "    predictor.delete_endpoint()\n",
    "else:\n",
    "    os.system(\"docker container ls | grep 8080 | awk '{print $1}' | xargs docker container rm -f\")"
   ]
  },
  {
   "cell_type": "code",
   "execution_count": null,
   "id": "42172ad6-008f-436e-9783-7fe766ca11f0",
   "metadata": {},
   "outputs": [],
   "source": []
  }
 ],
 "metadata": {
  "kernelspec": {
   "display_name": "conda_pytorch_p39",
   "language": "python",
   "name": "conda_pytorch_p39"
  },
  "language_info": {
   "codemirror_mode": {
    "name": "ipython",
    "version": 3
   },
   "file_extension": ".py",
   "mimetype": "text/x-python",
   "name": "python",
   "nbconvert_exporter": "python",
   "pygments_lexer": "ipython3",
   "version": "3.9.15"
  }
 },
 "nbformat": 4,
 "nbformat_minor": 5
}
